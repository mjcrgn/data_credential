{
  "nbformat": 4,
  "nbformat_minor": 0,
  "metadata": {
    "colab": {
      "name": "210112 911 emergency calls.ipynb",
      "provenance": [],
      "collapsed_sections": [],
      "include_colab_link": true
    },
    "kernelspec": {
      "name": "python3",
      "display_name": "Python 3"
    }
  },
  "cells": [
    {
      "cell_type": "markdown",
      "metadata": {
        "id": "view-in-github",
        "colab_type": "text"
      },
      "source": [
        "<a href=\"https://colab.research.google.com/github/mjcrgn/data_credential/blob/master/210112_911_emergency_calls.ipynb\" target=\"_parent\"><img src=\"https://colab.research.google.com/assets/colab-badge.svg\" alt=\"Open In Colab\"/></a>"
      ]
    },
    {
      "cell_type": "markdown",
      "metadata": {
        "id": "PEdyn_jMSaDt"
      },
      "source": [
        "###Group 5: Ariana, MJ, Safiyyah, Sarah"
      ]
    },
    {
      "cell_type": "markdown",
      "metadata": {
        "id": "TZQ-JfHlScq9"
      },
      "source": [
        "\r\n",
        "\r\n",
        "---\r\n",
        "\r\n",
        "---\r\n",
        "\r\n",
        "\r\n",
        "\r\n"
      ]
    },
    {
      "cell_type": "markdown",
      "metadata": {
        "id": "P5dUtcQvvbBo"
      },
      "source": [
        "#Case Study\r\n",
        "\r\n",
        "Congrats! You have been contracted to conduct a brief analysis of a dataset containing ememrgency calls in order to determine the allocation of funds to you local authorities.  This analysis will play a role in deciding changes to the emergency response department.\r\n",
        "\r\n",
        "The data is based in 911 emergency calls and your job is to determine a variety of issues regarding said calls.\r\n",
        "\r\n",
        "1. Using Pandas and Numpy, analyse the data and come up with 5 questions that you would like to answer about the data.\r\n",
        "\r\n",
        "2. the instructor will provide a rnage of questions to answer and you should use your knowledge to complte them as a team."
      ]
    },
    {
      "cell_type": "markdown",
      "metadata": {
        "id": "hidFpASJOb4b"
      },
      "source": [
        "\r\n",
        "\r\n",
        "---\r\n",
        "\r\n",
        "---\r\n",
        "\r\n",
        "\r\n",
        "\r\n"
      ]
    },
    {
      "cell_type": "markdown",
      "metadata": {
        "id": "Wph_B-jZOWBy"
      },
      "source": [
        "###Mounting drive"
      ]
    },
    {
      "cell_type": "code",
      "metadata": {
        "id": "W9grgLjZ_7Wv"
      },
      "source": [
        "import numpy as np\r\n",
        "import pandas as pd\r\n",
        "import matplotlib as plt\r\n",
        "%matplotlib inline\r\n",
        "import seaborn as sns\r\n",
        "sns.set() # Sets graph backgrounds as grids"
      ],
      "execution_count": null,
      "outputs": []
    },
    {
      "cell_type": "code",
      "metadata": {
        "colab": {
          "base_uri": "https://localhost:8080/"
        },
        "id": "f11a9lqNEmzN",
        "outputId": "ef6281f8-408a-46c1-d5b7-0b7245a3bb9e"
      },
      "source": [
        "from google.colab import drive\n",
        "drive.mount('/content/drive')"
      ],
      "execution_count": null,
      "outputs": [
        {
          "output_type": "stream",
          "text": [
            "Mounted at /content/drive\n"
          ],
          "name": "stdout"
        }
      ]
    },
    {
      "cell_type": "code",
      "metadata": {
        "id": "TfG_K_rvEpFj"
      },
      "source": [
        "data = pd.read_csv(\r\n",
        "    '/content/drive/MyDrive/qc/school/CSCI/data micro credential/projects/data/210112 911 emergency calls.csv'\r\n",
        ")"
      ],
      "execution_count": null,
      "outputs": []
    },
    {
      "cell_type": "markdown",
      "metadata": {
        "id": "aSt8bUPAOZab"
      },
      "source": [
        "###General info"
      ]
    },
    {
      "cell_type": "code",
      "metadata": {
        "colab": {
          "base_uri": "https://localhost:8080/"
        },
        "id": "mzSbvx7sE2_J",
        "outputId": "e937a9c7-642c-481c-f3a4-ec8c9e753aa6"
      },
      "source": [
        "data.info()"
      ],
      "execution_count": null,
      "outputs": [
        {
          "output_type": "stream",
          "text": [
            "<class 'pandas.core.frame.DataFrame'>\n",
            "RangeIndex: 99492 entries, 0 to 99491\n",
            "Data columns (total 9 columns):\n",
            " #   Column     Non-Null Count  Dtype  \n",
            "---  ------     --------------  -----  \n",
            " 0   lat        99492 non-null  float64\n",
            " 1   lng        99492 non-null  float64\n",
            " 2   desc       99492 non-null  object \n",
            " 3   zip        86637 non-null  float64\n",
            " 4   title      99492 non-null  object \n",
            " 5   timeStamp  99492 non-null  object \n",
            " 6   twp        99449 non-null  object \n",
            " 7   addr       98973 non-null  object \n",
            " 8   e          99492 non-null  int64  \n",
            "dtypes: float64(3), int64(1), object(5)\n",
            "memory usage: 6.8+ MB\n"
          ],
          "name": "stdout"
        }
      ]
    },
    {
      "cell_type": "code",
      "metadata": {
        "colab": {
          "base_uri": "https://localhost:8080/",
          "height": 206
        },
        "id": "6WsrsXEcE_fy",
        "outputId": "cb26cf1f-b6a2-4956-c43c-d549c2349327"
      },
      "source": [
        "data.head()"
      ],
      "execution_count": null,
      "outputs": [
        {
          "output_type": "execute_result",
          "data": {
            "text/html": [
              "<div>\n",
              "<style scoped>\n",
              "    .dataframe tbody tr th:only-of-type {\n",
              "        vertical-align: middle;\n",
              "    }\n",
              "\n",
              "    .dataframe tbody tr th {\n",
              "        vertical-align: top;\n",
              "    }\n",
              "\n",
              "    .dataframe thead th {\n",
              "        text-align: right;\n",
              "    }\n",
              "</style>\n",
              "<table border=\"1\" class=\"dataframe\">\n",
              "  <thead>\n",
              "    <tr style=\"text-align: right;\">\n",
              "      <th></th>\n",
              "      <th>lat</th>\n",
              "      <th>lng</th>\n",
              "      <th>desc</th>\n",
              "      <th>zip</th>\n",
              "      <th>title</th>\n",
              "      <th>timeStamp</th>\n",
              "      <th>twp</th>\n",
              "      <th>addr</th>\n",
              "      <th>e</th>\n",
              "    </tr>\n",
              "  </thead>\n",
              "  <tbody>\n",
              "    <tr>\n",
              "      <th>0</th>\n",
              "      <td>40.297876</td>\n",
              "      <td>-75.581294</td>\n",
              "      <td>REINDEER CT &amp; DEAD END;  NEW HANOVER; Station ...</td>\n",
              "      <td>19525.0</td>\n",
              "      <td>EMS: BACK PAINS/INJURY</td>\n",
              "      <td>2015-12-10 17:40:00</td>\n",
              "      <td>NEW HANOVER</td>\n",
              "      <td>REINDEER CT &amp; DEAD END</td>\n",
              "      <td>1</td>\n",
              "    </tr>\n",
              "    <tr>\n",
              "      <th>1</th>\n",
              "      <td>40.258061</td>\n",
              "      <td>-75.264680</td>\n",
              "      <td>BRIAR PATH &amp; WHITEMARSH LN;  HATFIELD TOWNSHIP...</td>\n",
              "      <td>19446.0</td>\n",
              "      <td>EMS: DIABETIC EMERGENCY</td>\n",
              "      <td>2015-12-10 17:40:00</td>\n",
              "      <td>HATFIELD TOWNSHIP</td>\n",
              "      <td>BRIAR PATH &amp; WHITEMARSH LN</td>\n",
              "      <td>1</td>\n",
              "    </tr>\n",
              "    <tr>\n",
              "      <th>2</th>\n",
              "      <td>40.121182</td>\n",
              "      <td>-75.351975</td>\n",
              "      <td>HAWS AVE; NORRISTOWN; 2015-12-10 @ 14:39:21-St...</td>\n",
              "      <td>19401.0</td>\n",
              "      <td>Fire: GAS-ODOR/LEAK</td>\n",
              "      <td>2015-12-10 17:40:00</td>\n",
              "      <td>NORRISTOWN</td>\n",
              "      <td>HAWS AVE</td>\n",
              "      <td>1</td>\n",
              "    </tr>\n",
              "    <tr>\n",
              "      <th>3</th>\n",
              "      <td>40.116153</td>\n",
              "      <td>-75.343513</td>\n",
              "      <td>AIRY ST &amp; SWEDE ST;  NORRISTOWN; Station 308A;...</td>\n",
              "      <td>19401.0</td>\n",
              "      <td>EMS: CARDIAC EMERGENCY</td>\n",
              "      <td>2015-12-10 17:40:01</td>\n",
              "      <td>NORRISTOWN</td>\n",
              "      <td>AIRY ST &amp; SWEDE ST</td>\n",
              "      <td>1</td>\n",
              "    </tr>\n",
              "    <tr>\n",
              "      <th>4</th>\n",
              "      <td>40.251492</td>\n",
              "      <td>-75.603350</td>\n",
              "      <td>CHERRYWOOD CT &amp; DEAD END;  LOWER POTTSGROVE; S...</td>\n",
              "      <td>NaN</td>\n",
              "      <td>EMS: DIZZINESS</td>\n",
              "      <td>2015-12-10 17:40:01</td>\n",
              "      <td>LOWER POTTSGROVE</td>\n",
              "      <td>CHERRYWOOD CT &amp; DEAD END</td>\n",
              "      <td>1</td>\n",
              "    </tr>\n",
              "  </tbody>\n",
              "</table>\n",
              "</div>"
            ],
            "text/plain": [
              "         lat        lng  ...                        addr  e\n",
              "0  40.297876 -75.581294  ...      REINDEER CT & DEAD END  1\n",
              "1  40.258061 -75.264680  ...  BRIAR PATH & WHITEMARSH LN  1\n",
              "2  40.121182 -75.351975  ...                    HAWS AVE  1\n",
              "3  40.116153 -75.343513  ...          AIRY ST & SWEDE ST  1\n",
              "4  40.251492 -75.603350  ...    CHERRYWOOD CT & DEAD END  1\n",
              "\n",
              "[5 rows x 9 columns]"
            ]
          },
          "metadata": {
            "tags": []
          },
          "execution_count": 42
        }
      ]
    },
    {
      "cell_type": "markdown",
      "metadata": {
        "id": "Dewq6Q-gUPPl"
      },
      "source": [
        "\r\n",
        "\r\n",
        "---\r\n",
        "\r\n",
        "---\r\n",
        "\r\n",
        "\r\n",
        "\r\n"
      ]
    },
    {
      "cell_type": "markdown",
      "metadata": {
        "id": "ZMAo5P8BT-lb"
      },
      "source": [
        "#Questions\r\n",
        "\r\n",
        "1. What were the top 5 reasons for calling 911?\r\n",
        "2. What were the 5 most common zip codes that called 911?\r\n",
        "3. Which addresses had more than 5 calls to 911?\r\n",
        "4. What was the least common township that called 911?\r\n",
        "5. What was the most common hour of the day to call 911?"
      ]
    },
    {
      "cell_type": "markdown",
      "metadata": {
        "id": "A3KyIpm-F6s8"
      },
      "source": [
        "###1. Top 5 reasons for calling"
      ]
    },
    {
      "cell_type": "code",
      "metadata": {
        "colab": {
          "base_uri": "https://localhost:8080/"
        },
        "id": "WixuluE_FTXv",
        "outputId": "7641e586-32f0-47dd-a625-13657cad22de"
      },
      "source": [
        "# From column 'title' return counts of unique rows\r\n",
        "# Display top 5\r\n",
        "\r\n",
        "data['title'].value_counts().head()"
      ],
      "execution_count": null,
      "outputs": [
        {
          "output_type": "execute_result",
          "data": {
            "text/plain": [
              "Traffic: VEHICLE ACCIDENT -    23066\n",
              "Traffic: DISABLED VEHICLE -     7702\n",
              "Fire: FIRE ALARM                5496\n",
              "EMS: RESPIRATORY EMERGENCY      5112\n",
              "EMS: CARDIAC EMERGENCY          5012\n",
              "Name: title, dtype: int64"
            ]
          },
          "metadata": {
            "tags": []
          },
          "execution_count": 43
        }
      ]
    },
    {
      "cell_type": "code",
      "metadata": {
        "colab": {
          "base_uri": "https://localhost:8080/"
        },
        "id": "lXuQEH1tQRLi",
        "outputId": "cf0b8842-cdec-484f-f514-303f0ac405c5"
      },
      "source": [
        "question1 = '''\r\n",
        "According to Group 5's analysis, the top 5 reasons for calling 911 are:\r\n",
        "\t1. Traffic: Vehicle accident\r\n",
        "\t2. Traffic: Disabled vehicle\r\n",
        "\t3. Fire: Fire alarm\r\n",
        "\t4. EMS: Respiratory emergency\r\n",
        "\t5. EMS: Cardiac emergency\r\n",
        "'''\r\n",
        "\r\n",
        "print(question1)"
      ],
      "execution_count": null,
      "outputs": [
        {
          "output_type": "stream",
          "text": [
            "\n",
            "According to Group 5's analysis, the top 5 reasons for calling 911 are:\n",
            "\t1. Traffic: Vehicle accident\n",
            "\t2. Traffic: Disabled vehicle\n",
            "\t3. Fire: Fire alarm\n",
            "\t4. EMS: Respiratory emergency\n",
            "\t5. EMS: Cardiac emergency\n",
            "\n"
          ],
          "name": "stdout"
        }
      ]
    },
    {
      "cell_type": "markdown",
      "metadata": {
        "id": "RdyjEFzhG38s"
      },
      "source": [
        "###2. 5 most common zip codes"
      ]
    },
    {
      "cell_type": "code",
      "metadata": {
        "colab": {
          "base_uri": "https://localhost:8080/"
        },
        "id": "S2u1-oniGNqB",
        "outputId": "0a026c22-df25-4e6b-ca07-6e6185e36da9"
      },
      "source": [
        "# From column 'zip' return counts of unique rows\r\n",
        "# Display top 5\r\n",
        "\r\n",
        "data['zip'].value_counts().head()"
      ],
      "execution_count": null,
      "outputs": [
        {
          "output_type": "execute_result",
          "data": {
            "text/plain": [
              "19401.0    6979\n",
              "19464.0    6643\n",
              "19403.0    4854\n",
              "19446.0    4748\n",
              "19406.0    3174\n",
              "Name: zip, dtype: int64"
            ]
          },
          "metadata": {
            "tags": []
          },
          "execution_count": 44
        }
      ]
    },
    {
      "cell_type": "code",
      "metadata": {
        "colab": {
          "base_uri": "https://localhost:8080/"
        },
        "id": "ejcZspQqRtL1",
        "outputId": "8370dbe7-162f-449f-96b3-9781d9b194fb"
      },
      "source": [
        "question2 = '''\r\n",
        "According to Group 5's analysis, the top 5 zip codes where 911 was called are:\r\n",
        "\t1. 19401\r\n",
        "\t2. 19464\r\n",
        "\t3. 19403\r\n",
        "\t4. 19446\r\n",
        "\t5. 19406\r\n",
        "'''\r\n",
        "\r\n",
        "print(question2)"
      ],
      "execution_count": null,
      "outputs": [
        {
          "output_type": "stream",
          "text": [
            "\n",
            "According to Group 5's analysis, the top 5 zip codes where 911 was called are:\n",
            "\t1. 19401\n",
            "\t2. 19464\n",
            "\t3. 19403\n",
            "\t4. 19446\n",
            "\t5. 19406\n",
            "\n"
          ],
          "name": "stdout"
        }
      ]
    },
    {
      "cell_type": "markdown",
      "metadata": {
        "id": "-QjWQeJ9HNX2"
      },
      "source": [
        "###3. Addresses with more than 5 calls\r\n",
        "\r\n"
      ]
    },
    {
      "cell_type": "code",
      "metadata": {
        "colab": {
          "base_uri": "https://localhost:8080/"
        },
        "id": "CvjLJYYUHdAP",
        "outputId": "3852e44b-9468-491a-eed6-dce70fbd430e"
      },
      "source": [
        "# In column 'addr' find where there have been at least 5 instances (i.e. called 911 at least 5 times)\r\n",
        "\r\n",
        "data['addr'].value_counts() > 5"
      ],
      "execution_count": null,
      "outputs": [
        {
          "output_type": "execute_result",
          "data": {
            "text/plain": [
              "SHANNONDELL DR & SHANNONDELL BLVD     True\n",
              "MAIN ST & OLD SUMNEYTOWN PIKE         True\n",
              "THE FAIRWAY  & RYDAL RD               True\n",
              "GULPH RD & KIRK AVE                   True\n",
              "EVERGREEN RD & W LIGHTCAP RD          True\n",
              "                                     ...  \n",
              "HANCOCK ST & CYPRESS ST              False\n",
              "SPRING HOUSE LN & WHEATSHEAF LN      False\n",
              "FRALEY ST & JEFFERSON ST             False\n",
              "OLD GULPH RD & N NARBERTH AVE        False\n",
              "ASHETON LN & HEATHER CT              False\n",
              "Name: addr, Length: 21914, dtype: bool"
            ]
          },
          "metadata": {
            "tags": []
          },
          "execution_count": 19
        }
      ]
    },
    {
      "cell_type": "code",
      "metadata": {
        "id": "KctSEZDpUCCI",
        "colab": {
          "base_uri": "https://localhost:8080/"
        },
        "outputId": "6e3cdc6b-4bc0-4290-b36f-4caccbf1461d"
      },
      "source": [
        "# How to isolate only rows with True values?\r\n",
        "# Use for loop to retrieve all addresses where addr_morethan5 > 5\r\n",
        "# Concatenate all addresses in print statement\r\n",
        "\r\n",
        "addr_morethan5 = data['addr'].value_counts()\r\n",
        "addr_morethan5"
      ],
      "execution_count": null,
      "outputs": [
        {
          "output_type": "execute_result",
          "data": {
            "text/plain": [
              "SHANNONDELL DR & SHANNONDELL BLVD    938\n",
              "MAIN ST & OLD SUMNEYTOWN PIKE        390\n",
              "THE FAIRWAY  & RYDAL RD              260\n",
              "GULPH RD & KIRK AVE                  235\n",
              "EVERGREEN RD & W LIGHTCAP RD         232\n",
              "                                    ... \n",
              "HANCOCK ST & CYPRESS ST                1\n",
              "SPRING HOUSE LN & WHEATSHEAF LN        1\n",
              "FRALEY ST & JEFFERSON ST               1\n",
              "OLD GULPH RD & N NARBERTH AVE          1\n",
              "ASHETON LN & HEATHER CT                1\n",
              "Name: addr, Length: 21914, dtype: int64"
            ]
          },
          "metadata": {
            "tags": []
          },
          "execution_count": 29
        }
      ]
    },
    {
      "cell_type": "code",
      "metadata": {
        "id": "kYpJiRefiAbf"
      },
      "source": [
        "# for loop (IN PROGRESS)\r\n",
        "\r\n",
        "# Create empty list to hold addresses\r\n",
        "addr_morethan5_list = []\r\n",
        "\r\n",
        "for addr in data['addr']:\r\n",
        "    if data['addr'].value_counts() > 5 == True:\r\n",
        "        #append to list"
      ],
      "execution_count": null,
      "outputs": []
    },
    {
      "cell_type": "code",
      "metadata": {
        "colab": {
          "base_uri": "https://localhost:8080/"
        },
        "id": "r5YlE6uAnyVe",
        "outputId": "d92baf6e-1bd4-4356-b51a-b3f4ae1cc83c"
      },
      "source": [
        "question3 = '''\r\n",
        "According to Group 5's analysis, these are the addresses that called 911 more than 5 times:\r\n",
        "\r\n",
        "# concatenate all strings where value_counts() > 5 from 'addr'\r\n",
        "\r\n",
        "'''\r\n",
        "\r\n",
        "print(question3)"
      ],
      "execution_count": 1,
      "outputs": [
        {
          "output_type": "stream",
          "text": [
            "\n",
            "According to Group 5's analysis, these are the addresses that called 911 more than 5 times:\n",
            "\n",
            "# concatenate all strings where value_counts() > 5 from 'addr'\n",
            "\n",
            "\n"
          ],
          "name": "stdout"
        }
      ]
    },
    {
      "cell_type": "markdown",
      "metadata": {
        "id": "H57ALDIXHRQ2"
      },
      "source": [
        "###4. Least common township"
      ]
    },
    {
      "cell_type": "code",
      "metadata": {
        "colab": {
          "base_uri": "https://localhost:8080/"
        },
        "id": "gnwebJUiGyMd",
        "outputId": "326dbb8b-c1cc-4d2f-fedf-8ace59bf0bf2"
      },
      "source": [
        "# Counts of unique rows in 'twp' but return LAST row with .tail(1)\r\n",
        "\r\n",
        "data['twp'].value_counts().tail(1)"
      ],
      "execution_count": null,
      "outputs": [
        {
          "output_type": "execute_result",
          "data": {
            "text/plain": [
              "LEHIGH COUNTY    30\n",
              "Name: twp, dtype: int64"
            ]
          },
          "metadata": {
            "tags": []
          },
          "execution_count": 133
        }
      ]
    },
    {
      "cell_type": "code",
      "metadata": {
        "colab": {
          "base_uri": "https://localhost:8080/"
        },
        "id": "zfOC2j68SKzt",
        "outputId": "0496d3d6-2a23-4d94-f2fd-f33e8df5a4b4"
      },
      "source": [
        "question4 = '''\r\n",
        "According to Group 5's analysis, the least common township where 911 was called is Lehigh County.\r\n",
        "'''\r\n",
        "\r\n",
        "print(question4)"
      ],
      "execution_count": null,
      "outputs": [
        {
          "output_type": "stream",
          "text": [
            "\n",
            "According to Group 5's analysis, the least common township where 911 was called is Lehigh County.\n",
            "\n"
          ],
          "name": "stdout"
        }
      ]
    },
    {
      "cell_type": "markdown",
      "metadata": {
        "id": "v26c3qOjHYhs"
      },
      "source": [
        "###5. Most common hour of the day to call"
      ]
    },
    {
      "cell_type": "code",
      "metadata": {
        "id": "9uD82p8RI0p-"
      },
      "source": [
        "# Split 'title' column into Department and Reason\r\n",
        "\r\n",
        "data['Department'] = data['title'].apply(lambda title: title.split(':')[0])\r\n",
        "data['Reason'] = data['title'].apply(lambda title: title.split(':')[1])"
      ],
      "execution_count": null,
      "outputs": []
    },
    {
      "cell_type": "code",
      "metadata": {
        "id": "3lExF3fEHXFL",
        "colab": {
          "base_uri": "https://localhost:8080/"
        },
        "outputId": "a56f9535-9f44-4833-8ad2-5c8cedc6c99d"
      },
      "source": [
        "# Convert strings in 'timeStamp' to datetime object\r\n",
        "# Check conversion\r\n",
        "\r\n",
        "data['timeStamp'] = pd.to_datetime(data['timeStamp'])\r\n",
        "type(data['timeStamp'])"
      ],
      "execution_count": null,
      "outputs": [
        {
          "output_type": "execute_result",
          "data": {
            "text/plain": [
              "pandas.core.series.Series"
            ]
          },
          "metadata": {
            "tags": []
          },
          "execution_count": 5
        }
      ]
    },
    {
      "cell_type": "code",
      "metadata": {
        "id": "CfZL0Z75HIlF"
      },
      "source": [
        "# Pull specific attributes from new datetime object\r\n",
        "# Split into hour, month, day of week\r\n",
        "\r\n",
        "data['Hour'] = data['timeStamp'].apply(lambda time: time.hour)\r\n",
        "data['Month'] = data['timeStamp'].apply(lambda time: time.month)\r\n",
        "data['Day of Week'] = data['timeStamp'].apply(lambda time: time.dayofweek)"
      ],
      "execution_count": null,
      "outputs": []
    },
    {
      "cell_type": "code",
      "metadata": {
        "id": "l-ytMi_XHd40"
      },
      "source": [
        "# Map hours to hour of day for chart\r\n",
        "\r\n",
        "dmap = {0:'0',1:'1',2:'2',3:'3',4:'4',5:'5',6:'6',7:'7',8:'8',9:'9',10:'10',11:'11',\r\n",
        "        12:'12',13:'13',14:'14',15:'15',16:'16',17:'17',18:'18',19:'19',20:'20',\r\n",
        "        21:'21',22:'22',23:'23'}"
      ],
      "execution_count": null,
      "outputs": []
    },
    {
      "cell_type": "code",
      "metadata": {
        "id": "sw0B4yEIHmDH"
      },
      "source": [
        "data['Hour'] = data['Hour'].map(dmap)"
      ],
      "execution_count": null,
      "outputs": []
    },
    {
      "cell_type": "code",
      "metadata": {
        "colab": {
          "base_uri": "https://localhost:8080/",
          "height": 667
        },
        "id": "eBegbktdMGGq",
        "outputId": "ed4d2c50-c144-4184-ae04-62dc3d0e0360"
      },
      "source": [
        "# Create histogram plot, x = hours of day, y = total calls\r\n",
        "# Make plot larger for easier viewing\r\n",
        "\r\n",
        "sns.histplot(x = 'Hour', data = data, hue = 'Department', palette = 'viridis')\r\n",
        "sns.set(rc = {'figure.figsize':(18,12)})\r\n",
        "    # figsize from Stack Overflow: \r\n",
        "    # https://stackoverflow.com/questions/31594549/how-do-i-change-the-figure-size-for-a-seaborn-plot"
      ],
      "execution_count": null,
      "outputs": [
        {
          "output_type": "display_data",
          "data": {
            "image/png": "[encoded data removed]",
            "text/plain": [
              "<Figure size 1296x864 with 1 Axes>"
            ]
          },
          "metadata": {
            "tags": []
          }
        }
      ]
    },
    {
      "cell_type": "code",
      "metadata": {
        "colab": {
          "base_uri": "https://localhost:8080/",
          "height": 667
        },
        "id": "ArVq3Pwzflqh",
        "outputId": "924316a8-12f7-4921-f3d1-7b0b0eaaf4aa"
      },
      "source": [
        "# Tried to set histogram to stack to avoid default layering, but it's not running\r\n",
        "\r\n",
        "ax = sns.histplot(x = 'Hour', data = data, hue = 'Department', palette = 'viridis', multiple = 'stack')\r\n",
        "sns.set(rc = {'figure.figsize':(18,12)})"
      ],
      "execution_count": null,
      "outputs": [
        {
          "output_type": "display_data",
          "data": {
            "image/png": "[encoded data removed]",
            "text/plain": [
              "<Figure size 1296x864 with 1 Axes>"
            ]
          },
          "metadata": {
            "tags": []
          }
        }
      ]
    },
    {
      "cell_type": "code",
      "metadata": {
        "colab": {
          "base_uri": "https://localhost:8080/"
        },
        "id": "UlrqeOhETeK3",
        "outputId": "59b1c865-b060-4fd3-8cce-24d3c1cfc542"
      },
      "source": [
        "# Confirm visual analysis with code\r\n",
        "# We are having trouble setting up the chart to accurately reflect data\r\n",
        "\r\n",
        "data['Hour'].value_counts().head(-1)"
      ],
      "execution_count": null,
      "outputs": [
        {
          "output_type": "execute_result",
          "data": {
            "text/plain": [
              "17    6517\n",
              "16    6490\n",
              "15    6154\n",
              "12    6029\n",
              "14    5997\n",
              "13    5967\n",
              "18    5762\n",
              "11    5543\n",
              "10    5413\n",
              "9     5314\n",
              "8     5044\n",
              "19    4908\n",
              "20    4377\n",
              "7     3970\n",
              "21    3788\n",
              "22    3283\n",
              "23    2559\n",
              "6     2513\n",
              "0     2112\n",
              "1     1721\n",
              "5     1629\n",
              "2     1549\n",
              "3     1435\n",
              "Name: Hour, dtype: int64"
            ]
          },
          "metadata": {
            "tags": []
          },
          "execution_count": 16
        }
      ]
    },
    {
      "cell_type": "code",
      "metadata": {
        "colab": {
          "base_uri": "https://localhost:8080/"
        },
        "id": "6apUImGFMIc4",
        "outputId": "504d0b93-6e00-4cd4-83ca-1d736c902081"
      },
      "source": [
        "question5 = '''\r\n",
        "According to Group 5's visual analysis, the most common hour to call 911 is at 5 pm.\r\n",
        "'''\r\n",
        "\r\n",
        "print(question5)"
      ],
      "execution_count": null,
      "outputs": [
        {
          "output_type": "stream",
          "text": [
            "\n",
            "According to Group 5's visual analysis, the most common hour to call 911 is at 5 pm.\n",
            "\n"
          ],
          "name": "stdout"
        }
      ]
    }
  ]
}