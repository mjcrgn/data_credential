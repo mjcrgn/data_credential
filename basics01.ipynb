{
  "nbformat": 4,
  "nbformat_minor": 0,
  "metadata": {
    "colab": {
      "name": "basics01.ipynb",
      "provenance": [],
      "collapsed_sections": [],
      "authorship_tag": "ABX9TyO0lCHYw5kaDNNkL3LVFria",
      "include_colab_link": true
    },
    "kernelspec": {
      "name": "python3",
      "display_name": "Python 3"
    }
  },
  "cells": [
    {
      "cell_type": "markdown",
      "metadata": {
        "id": "view-in-github",
        "colab_type": "text"
      },
      "source": [
        "<a href=\"https://colab.research.google.com/github/mjcrgn/python-practice/blob/master/basics01.ipynb\" target=\"_parent\"><img src=\"https://colab.research.google.com/assets/colab-badge.svg\" alt=\"Open In Colab\"/></a>"
      ]
    },
    {
      "cell_type": "markdown",
      "metadata": {
        "id": "1-i01l8CNLvj"
      },
      "source": [
        "notes\r\n",
        "\r\n",
        "- double click to edit cell\r\n",
        "- run cell (or exit, esp for text cells) and move to following cell: shift + enter\r\n",
        "  - if next cell doesn't exist it'll create one for you (same type as whatever cell you just exited)\r\n",
        "- apparently python doesn't end lines in semicolons? wild\r\n",
        "- single or double quotes for variables, doesn't matter. but if you start with a single quote you MUST end with a single quote, same with double\r\n",
        "  - also colabs does that lovely thing where it kinda autocompletes your typing for you in code (like it won't correct spelling, but if you hit a single quote it'll immediately enter the second closing quote for you) (we love modern coding)\r\n",
        "- if possible, press ctrl / shift / alt + enter to run cells instead of clicking play button\r\n",
        "  - for one thing keyboard shortcuts are just faster than constantly moving to the mouse and clicking but also sometimes the play button doesn't do what you expect it to do\r\n",
        "\r\n",
        "\r\n",
        "PUSHING TO GITHUB\r\n",
        "\r\n",
        "- file > save copy in github\r\n",
        "  - IF BRANCH DOESN'T EXIST, open in visual studio code\r\n",
        "  - create new file, type whatever, name it readme.md (.md MUST BE LOWERCASE!)\r\n",
        "  - save file\r\n",
        "  - should show blue 1 on the left, click it, then push changes to github\r\n",
        "  - refresh github\r\n",
        "  - hopefully colabs can now save copies to github!\r\n",
        "  - if not idk troubleshoot with prof again\r\n",
        "\r\n",
        "\r\n",
        "terminology\r\n",
        "- EOL: end of line"
      ]
    },
    {
      "cell_type": "code",
      "metadata": {
        "id": "T6OECu_wYVta"
      },
      "source": [
        "import math"
      ],
      "execution_count": 25,
      "outputs": []
    },
    {
      "cell_type": "markdown",
      "metadata": {
        "id": "YM46T61mMMsK"
      },
      "source": [
        "Create five variables"
      ]
    },
    {
      "cell_type": "code",
      "metadata": {
        "id": "lZFj_-alLrXC"
      },
      "source": [
        "first_name = \"MJ\"\r\n",
        "firstName = \"AJ\"\r\n",
        "FirstName = \"JJ\"\r\n",
        "FIRSTNAME = \"PJ\"\r\n",
        "_firstname = \"RJ\""
      ],
      "execution_count": 3,
      "outputs": []
    },
    {
      "cell_type": "code",
      "metadata": {
        "colab": {
          "base_uri": "https://localhost:8080/"
        },
        "id": "j0OkvAV3NbKy",
        "outputId": "9c36b9b5-dea7-4ea4-8738-409d7b4314d6"
      },
      "source": [
        "print(first_name)\r\n",
        "print(firstName)\r\n",
        "print(FirstName)\r\n",
        "print(FIRSTNAME)\r\n",
        "print(_firstname)"
      ],
      "execution_count": 5,
      "outputs": [
        {
          "output_type": "stream",
          "text": [
            "MJ\n",
            "AJ\n",
            "JJ\n",
            "PJ\n",
            "RJ\n"
          ],
          "name": "stdout"
        }
      ]
    },
    {
      "cell_type": "markdown",
      "metadata": {
        "id": "uikQe9m-N9tc"
      },
      "source": [
        "Create ten variables"
      ]
    },
    {
      "cell_type": "code",
      "metadata": {
        "id": "ly-xp-c-N07J"
      },
      "source": [
        "lastName = \"Red\" # I have zero brain to come up with a bunch of last names on the spot\r\n",
        "LastName = \"Orange\"\r\n",
        "last_name = \"Yellow\"\r\n",
        "Last_Name = \"Green\"\r\n",
        "LASTNAME = \"Blue\"\r\n",
        "lastname = \"Indigo\"\r\n",
        "lAsTnAmE = \"Violet\"\r\n",
        "laastnaame = \"Pink\"\r\n",
        "llastnname = \"Black\"\r\n",
        "yeehaw = \"White\""
      ],
      "execution_count": 21,
      "outputs": []
    },
    {
      "cell_type": "code",
      "metadata": {
        "colab": {
          "base_uri": "https://localhost:8080/"
        },
        "id": "8AK0x8jVPKFB",
        "outputId": "fc4cb6c1-0a9a-45ec-a3ff-0b096d7e5611"
      },
      "source": [
        "print(lastName)\r\n",
        "print(LastName)\r\n",
        "print(last_name)\r\n",
        "print(Last_Name)\r\n",
        "print(LASTNAME)\r\n",
        "print(lastname)\r\n",
        "print(lAsTnAmE)\r\n",
        "print(laastnaame)\r\n",
        "print(llastnname)\r\n",
        "print(yeehaw)"
      ],
      "execution_count": 8,
      "outputs": [
        {
          "output_type": "stream",
          "text": [
            "Red\n",
            "Orange\n",
            "Yellow\n",
            "Green\n",
            "Blue\n",
            "Indigo\n",
            "Violet\n",
            "Pink\n",
            "Black\n",
            "White\n"
          ],
          "name": "stdout"
        }
      ]
    },
    {
      "cell_type": "code",
      "metadata": {
        "id": "XqOsRAFAPh3U"
      },
      "source": [
        "num = 10"
      ],
      "execution_count": 19,
      "outputs": []
    },
    {
      "cell_type": "code",
      "metadata": {
        "colab": {
          "base_uri": "https://localhost:8080/"
        },
        "id": "s6h7__mBP86X",
        "outputId": "19133e0b-a88b-4744-dd94-650522c4283c"
      },
      "source": [
        "print(first_name) "
      ],
      "execution_count": 10,
      "outputs": [
        {
          "output_type": "stream",
          "text": [
            "MJ\n"
          ],
          "name": "stdout"
        }
      ]
    },
    {
      "cell_type": "markdown",
      "metadata": {
        "id": "-zvU0Ra8RTfb"
      },
      "source": [
        "- after running the code below I tried to print first_name again up here while editing it with a comment and it printed 90. so note that changes to a variable made later will hold for earlier code"
      ]
    },
    {
      "cell_type": "code",
      "metadata": {
        "id": "G_0YF-w7P-M9"
      },
      "source": [
        "first_name = 90 # Updating variable first_name"
      ],
      "execution_count": 17,
      "outputs": []
    },
    {
      "cell_type": "code",
      "metadata": {
        "colab": {
          "base_uri": "https://localhost:8080/"
        },
        "id": "cWLUJkrsP_1B",
        "outputId": "45365411-6079-4b88-b635-c11e7ed76d0a"
      },
      "source": [
        "print(first_name) # Now it's printing the new value"
      ],
      "execution_count": 16,
      "outputs": [
        {
          "output_type": "stream",
          "text": [
            "90\n"
          ],
          "name": "stdout"
        }
      ]
    },
    {
      "cell_type": "markdown",
      "metadata": {
        "id": "SG3GUYF-X6-o"
      },
      "source": [
        "Data types"
      ]
    },
    {
      "cell_type": "code",
      "metadata": {
        "colab": {
          "base_uri": "https://localhost:8080/"
        },
        "id": "IRpcEfkHX6MO",
        "outputId": "4737460e-9341-4800-d5e5-5f502d3c5179"
      },
      "source": [
        "# Float / Double\r\n",
        "\r\n",
        "num = 12.90 # Notice 0 gets omitted when printing, it's redundant\r\n",
        "num"
      ],
      "execution_count": 27,
      "outputs": [
        {
          "output_type": "execute_result",
          "data": {
            "text/plain": [
              "12.9"
            ]
          },
          "metadata": {
            "tags": []
          },
          "execution_count": 27
        }
      ]
    },
    {
      "cell_type": "code",
      "metadata": {
        "colab": {
          "base_uri": "https://localhost:8080/"
        },
        "id": "jtnMRZUTYHSz",
        "outputId": "c6eab22a-081b-42a5-cc12-8fc1e1bfaa7a"
      },
      "source": [
        "num1 = 12.398475938492563\r\n",
        "num1"
      ],
      "execution_count": 24,
      "outputs": [
        {
          "output_type": "execute_result",
          "data": {
            "text/plain": [
              "12.398475938492563"
            ]
          },
          "metadata": {
            "tags": []
          },
          "execution_count": 24
        }
      ]
    },
    {
      "cell_type": "code",
      "metadata": {
        "colab": {
          "base_uri": "https://localhost:8080/"
        },
        "id": "piGuG-GJYRfz",
        "outputId": "eee616ef-da1d-4385-e457-6b8caad82cd3"
      },
      "source": [
        "# Printing pi: import math library to get access\r\n",
        "# Automatically stops at 15th decimal place so as not to run forever\r\n",
        "\r\n",
        "math.pi"
      ],
      "execution_count": 26,
      "outputs": [
        {
          "output_type": "execute_result",
          "data": {
            "text/plain": [
              "3.141592653589793"
            ]
          },
          "metadata": {
            "tags": []
          },
          "execution_count": 26
        }
      ]
    },
    {
      "cell_type": "code",
      "metadata": {
        "id": "naUiNGriYhe0"
      },
      "source": [
        "# Boolean\r\n",
        "\r\n",
        "game = True # True / False values capitalized in Python"
      ],
      "execution_count": 28,
      "outputs": []
    },
    {
      "cell_type": "code",
      "metadata": {
        "colab": {
          "base_uri": "https://localhost:8080/"
        },
        "id": "uO2lhkfnZHUF",
        "outputId": "ae6d73ab-5447-4de9-aa70-02708d6713f3"
      },
      "source": [
        "type(num) # Prints data type "
      ],
      "execution_count": 29,
      "outputs": [
        {
          "output_type": "execute_result",
          "data": {
            "text/plain": [
              "float"
            ]
          },
          "metadata": {
            "tags": []
          },
          "execution_count": 29
        }
      ]
    },
    {
      "cell_type": "code",
      "metadata": {
        "colab": {
          "base_uri": "https://localhost:8080/"
        },
        "id": "DTHuBeKLZLa8",
        "outputId": "52904a26-4039-47e9-b941-210f6089e5e7"
      },
      "source": [
        "type(game)"
      ],
      "execution_count": 30,
      "outputs": [
        {
          "output_type": "execute_result",
          "data": {
            "text/plain": [
              "bool"
            ]
          },
          "metadata": {
            "tags": []
          },
          "execution_count": 30
        }
      ]
    },
    {
      "cell_type": "code",
      "metadata": {
        "colab": {
          "base_uri": "https://localhost:8080/"
        },
        "id": "Vm_FWltpZNuk",
        "outputId": "e30f8136-e2a2-404c-c94f-dd69c940f1d3"
      },
      "source": [
        "# List\r\n",
        "\r\n",
        "list1 = [\"hello\", \"world\", \"goodbye\"] # SQUARE BRACKETS FOR LISTS!"
      ],
      "execution_count": 31,
      "outputs": [
        {
          "output_type": "execute_result",
          "data": {
            "text/plain": [
              "['hello', 'world', 'goodbye']"
            ]
          },
          "metadata": {
            "tags": []
          },
          "execution_count": 31
        }
      ]
    },
    {
      "cell_type": "markdown",
      "metadata": {
        "id": "IULE5PO2Z3XC"
      },
      "source": [
        "Create 10 lists, 10 booleans, 10 floats"
      ]
    },
    {
      "cell_type": "code",
      "metadata": {
        "id": "PMpUHrkHZdyz"
      },
      "source": [
        "list2 = [1, 2, 3] # BRACKETS\r\n",
        "list3 = [4, 5, 6]\r\n",
        "list4 = [\"a\", \"b\", \"c\"]           # Encase in quotes so they're strings, if just list4 = [a, b, c] those could be variables and in this case, are unassigned - might not run\r\n",
        "list5 = ['d', 'e', 'f']           # Just do single quotes, prob faster in the long run (no shift)\r\n",
        "list6 = [\"g\", \"h\", 'i', 10, game] # Can mix data types!\r\n",
        "list7 = [list2, list3]            # Can I put a list in a list?\r\n",
        "list8 = [3.4, num1, \"yeehaw\"]\r\n",
        "list9 = [\"monday\", 'tuesday', 'wednesday', \"thursday\"]\r\n",
        "list10 = ['friday', 'saturday', 'sunday']\r\n",
        "list11 = []\r\n",
        "\r\n",
        "bool1 = 0       # I think these can hold integers?\r\n",
        "bool2 = 1\r\n",
        "bool3 = True    # T/F capitalized for boolean values\r\n",
        "bool4 = False\r\n",
        "bool5 = True\r\n",
        "bool6 = False\r\n",
        "bool7 = 11\r\n",
        "bool8 = 12\r\n",
        "bool9 = 13.57   # What about decimals :0\r\n",
        "bool10 = -6     # IIRC anything that isn't 0 is true so even if negative this would return True\r\n",
        "\r\n",
        "float1 = 1.2\r\n",
        "float2 = 2.3 \r\n",
        "float3 = 3.456\r\n",
        "float4 = 2452.9879235\r\n",
        "float5 = 0.0\r\n",
        "float6 = 0.0000000000001\r\n",
        "float7 = 9.9999999999999\r\n",
        "float8 = 8.8813\r\n",
        "float9 = 6.9    # Nice\r\n",
        "float10 = 10.0"
      ],
      "execution_count": 45,
      "outputs": []
    },
    {
      "cell_type": "code",
      "metadata": {
        "colab": {
          "base_uri": "https://localhost:8080/"
        },
        "id": "FnFFbXXWiXL5",
        "outputId": "6e636a30-c509-4628-e318-dcf126e65b4c"
      },
      "source": [
        "# Dictionary - this is just Python's name for an array\r\n",
        "# CURLY BRACKETS\r\n",
        "\r\n",
        "dictExample = {'key': 'value', 'key2': 'value2', 'key3': 'value3'}\r\n",
        "dictExample"
      ],
      "execution_count": 39,
      "outputs": [
        {
          "output_type": "execute_result",
          "data": {
            "text/plain": [
              "{'key': 'value', 'key2': 'value2', 'key3': 'value3'}"
            ]
          },
          "metadata": {
            "tags": []
          },
          "execution_count": 39
        }
      ]
    },
    {
      "cell_type": "markdown",
      "metadata": {
        "id": "leDfcNyllHcL"
      },
      "source": [
        "Create:\r\n",
        "- dict1 = 10 foods\r\n",
        "- dict2 = 10 names\r\n",
        "- dict3 = 5 sports players "
      ]
    },
    {
      "cell_type": "code",
      "metadata": {
        "colab": {
          "base_uri": "https://localhost:8080/"
        },
        "id": "wiAiwb0yizSA",
        "outputId": "558efd03-40d0-4373-a904-0d02c50fb420"
      },
      "source": [
        "dict1 = {\r\n",
        "    'fruit': 'apple',\r\n",
        "    'vegetable': 'carrot',\r\n",
        "    'tuber': 'potato',\r\n",
        "    'legume': 'pinto',\r\n",
        "    'yam': 'ube',\r\n",
        "    'soup': 'french onion',\r\n",
        "    'meat': 'beef',\r\n",
        "    'dairy': 'milk',\r\n",
        "    'dessert': 'cake',\r\n",
        "    'granola': 'bar' # lol\r\n",
        "}\r\n",
        "\r\n",
        "dict2 = { # Can assign a list to the same key to save time\r\n",
        "    'names': [\r\n",
        "        'Anna', \r\n",
        "        'Burton', \r\n",
        "        'Chester', \r\n",
        "        'Diana', \r\n",
        "        'Elmer', \r\n",
        "        'Fred', \r\n",
        "        'George', \r\n",
        "        'Heather', \r\n",
        "        'Irene', \r\n",
        "        'Julia'\r\n",
        "    ]\r\n",
        "} \r\n",
        "\r\n",
        "dict3 = {\r\n",
        "    'point guard': 'Elfrid Payton',\r\n",
        "    'shooting guard': 'Austin Rivers',\r\n",
        "    'small forward': 'RJ Barrett',\r\n",
        "    'power forward': 'Obi Toppin',\r\n",
        "    'center': 'Mitchell Robinson'\r\n",
        "}\r\n",
        "\r\n",
        "print(dict1)\r\n",
        "print(dict2)\r\n",
        "print(dict3)"
      ],
      "execution_count": 44,
      "outputs": [
        {
          "output_type": "stream",
          "text": [
            "{'fruit': 'apple', 'vegetable': 'carrot', 'tuber': 'potato', 'legume': 'pinto', 'yam': 'ube', 'soup': 'french onion', 'meat': 'beef', 'dairy': 'milk', 'dessert': 'cake', 'granola': 'bar'}\n",
            "{'names': ['Anna', 'Burton', 'Chester', 'Diana', 'Elmer', 'Fred', 'George', 'Heather', 'Irene', 'Julia']}\n",
            "{'point guard': 'Elfrid Payton', 'shooting guard': 'Austin Rivers', 'small forward': 'RJ Barrett', 'power forward': 'Obi Toppin', 'center': 'Mitchell Robinson'}\n"
          ],
          "name": "stdout"
        }
      ]
    },
    {
      "cell_type": "code",
      "metadata": {
        "id": "SM0bD2fVp-5L"
      },
      "source": [
        ""
      ],
      "execution_count": null,
      "outputs": []
    }
  ]
}