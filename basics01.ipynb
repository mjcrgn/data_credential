{
  "nbformat": 4,
  "nbformat_minor": 0,
  "metadata": {
    "colab": {
      "name": "basics01.ipynb",
      "provenance": [],
      "collapsed_sections": [],
      "authorship_tag": "ABX9TyPAiwupFt0U9edhESl5GjTF",
      "include_colab_link": true
    },
    "kernelspec": {
      "name": "python3",
      "display_name": "Python 3"
    }
  },
  "cells": [
    {
      "cell_type": "markdown",
      "metadata": {
        "id": "view-in-github",
        "colab_type": "text"
      },
      "source": [
        "<a href=\"https://colab.research.google.com/github/mjcrgn/python-practice/blob/master/basics01.ipynb\" target=\"_parent\"><img src=\"https://colab.research.google.com/assets/colab-badge.svg\" alt=\"Open In Colab\"/></a>"
      ]
    },
    {
      "cell_type": "markdown",
      "metadata": {
        "id": "1-i01l8CNLvj"
      },
      "source": [
        "notes\r\n",
        "\r\n",
        "- double click to edit cell\r\n",
        "- if possible, press ctrl / shift / alt + enter to run cells instead of clicking play button\r\n",
        "  - for one thing keyboard shortcuts are just faster than constantly moving to the mouse and clicking but also sometimes the play button doesn't do what you expect it to do\r\n",
        "    - ctrl + enter = run cell in place\r\n",
        "    - shift + enter = run cell and move to next one (will create new CODE cell if next cell doesn't exist) \r\n",
        "      - ALSO USE THIS TO EXIT TEXT CELLS, can't do ctrl + enter to exit\r\n",
        "    - alt + enter = run cell and insert new CODE cell immediately below - can go in between existing cells\r\n",
        "- apparently python doesn't end lines in semicolons? wild\r\n",
        "- single or double quotes for variables, doesn't matter. but if you start with a single quote you MUST end with a single quote, same with double\r\n",
        "  - also colabs does that thing where it kinda autocompletes your typing for you in code (like it won't correct spelling, but if you hit a single quote it'll immediately enter the second closing quote for you. same with brackets and some tabbing stuff blah blah)\r\n",
        "\r\n",
        "\r\n",
        "PUSHING TO GITHUB\r\n",
        "\r\n",
        "- file > save copy in github\r\n",
        "  - IF BRANCH DOESN'T EXIST, open in visual studio code\r\n",
        "  - create new file, type whatever, name it readme.md (.md MUST BE LOWERCASE!)\r\n",
        "  - save file\r\n",
        "  - should show blue 1 on the left, click it, then push changes to github (include whatever message to indicate changes)\r\n",
        "  - refresh github\r\n",
        "  - hopefully colabs can now save copies to github!\r\n",
        "  - if not idk troubleshoot with prof again\r\n",
        "\r\n",
        "\r\n",
        "terminology\r\n",
        "- EOL: end of line"
      ]
    },
    {
      "cell_type": "code",
      "metadata": {
        "id": "T6OECu_wYVta"
      },
      "source": [
        "import math"
      ],
      "execution_count": 49,
      "outputs": []
    },
    {
      "cell_type": "markdown",
      "metadata": {
        "id": "YM46T61mMMsK"
      },
      "source": [
        "Create five variables"
      ]
    },
    {
      "cell_type": "code",
      "metadata": {
        "id": "lZFj_-alLrXC"
      },
      "source": [
        "first_name = \"MJ\"\r\n",
        "firstName = \"AJ\"\r\n",
        "FirstName = \"JJ\"\r\n",
        "FIRSTNAME = \"PJ\"\r\n",
        "_firstname = \"RJ\""
      ],
      "execution_count": 73,
      "outputs": []
    },
    {
      "cell_type": "code",
      "metadata": {
        "colab": {
          "base_uri": "https://localhost:8080/"
        },
        "id": "j0OkvAV3NbKy",
        "outputId": "194f79e8-8e24-4c0c-f6ad-75ee1d1722c6"
      },
      "source": [
        "print(first_name)\r\n",
        "print(firstName)\r\n",
        "print(FirstName)\r\n",
        "print(FIRSTNAME)\r\n",
        "print(_firstname)\r\n",
        "\r\n",
        "print(first_name, firstName, FirstName, FIRSTNAME, _firstname) # Does Python automatically insert the spaces between the variables?\r\n",
        "print(\" \") # Aha so this inserts the line break because line 6 by itself didn't\r\n",
        "print(\"hey\") "
      ],
      "execution_count": 80,
      "outputs": [
        {
          "output_type": "stream",
          "text": [
            "MJ\n",
            "AJ\n",
            "JJ\n",
            "PJ\n",
            "RJ\n",
            "MJ AJ JJ PJ RJ\n",
            " \n",
            "hey\n"
          ],
          "name": "stdout"
        }
      ]
    },
    {
      "cell_type": "markdown",
      "metadata": {
        "id": "uikQe9m-N9tc"
      },
      "source": [
        "Create ten variables"
      ]
    },
    {
      "cell_type": "code",
      "metadata": {
        "id": "ly-xp-c-N07J"
      },
      "source": [
        "lastName = \"Red\" # I have zero brain to come up with a bunch of last names on the spot\r\n",
        "LastName = \"Orange\"\r\n",
        "last_name = \"Yellow\"\r\n",
        "Last_Name = \"Green\"\r\n",
        "LASTNAME = \"Blue\"\r\n",
        "lastname = \"Indigo\"\r\n",
        "lAsTnAmE = \"Violet\"\r\n",
        "laastnaame = \"Pink\"\r\n",
        "llastnname = \"Black\"\r\n",
        "yeehaw = \"White\""
      ],
      "execution_count": 21,
      "outputs": []
    },
    {
      "cell_type": "code",
      "metadata": {
        "colab": {
          "base_uri": "https://localhost:8080/"
        },
        "id": "8AK0x8jVPKFB",
        "outputId": "fc4cb6c1-0a9a-45ec-a3ff-0b096d7e5611"
      },
      "source": [
        "print(lastName)\r\n",
        "print(LastName)\r\n",
        "print(last_name)\r\n",
        "print(Last_Name)\r\n",
        "print(LASTNAME)\r\n",
        "print(lastname)\r\n",
        "print(lAsTnAmE)\r\n",
        "print(laastnaame)\r\n",
        "print(llastnname)\r\n",
        "print(yeehaw)"
      ],
      "execution_count": 8,
      "outputs": [
        {
          "output_type": "stream",
          "text": [
            "Red\n",
            "Orange\n",
            "Yellow\n",
            "Green\n",
            "Blue\n",
            "Indigo\n",
            "Violet\n",
            "Pink\n",
            "Black\n",
            "White\n"
          ],
          "name": "stdout"
        }
      ]
    },
    {
      "cell_type": "code",
      "metadata": {
        "id": "XqOsRAFAPh3U"
      },
      "source": [
        "num = 10"
      ],
      "execution_count": 19,
      "outputs": []
    },
    {
      "cell_type": "code",
      "metadata": {
        "colab": {
          "base_uri": "https://localhost:8080/"
        },
        "id": "s6h7__mBP86X",
        "outputId": "19133e0b-a88b-4744-dd94-650522c4283c"
      },
      "source": [
        "print(first_name) "
      ],
      "execution_count": 10,
      "outputs": [
        {
          "output_type": "stream",
          "text": [
            "MJ\n"
          ],
          "name": "stdout"
        }
      ]
    },
    {
      "cell_type": "markdown",
      "metadata": {
        "id": "-zvU0Ra8RTfb"
      },
      "source": [
        "- after running the code below I tried to print first_name again up here while editing it with a comment and it printed 90. so note that changes to a variable made later will hold for earlier code"
      ]
    },
    {
      "cell_type": "code",
      "metadata": {
        "id": "G_0YF-w7P-M9"
      },
      "source": [
        "first_name = 90 # Updating variable first_name"
      ],
      "execution_count": 17,
      "outputs": []
    },
    {
      "cell_type": "code",
      "metadata": {
        "colab": {
          "base_uri": "https://localhost:8080/"
        },
        "id": "cWLUJkrsP_1B",
        "outputId": "45365411-6079-4b88-b635-c11e7ed76d0a"
      },
      "source": [
        "print(first_name) # Now it's printing the new value"
      ],
      "execution_count": 16,
      "outputs": [
        {
          "output_type": "stream",
          "text": [
            "90\n"
          ],
          "name": "stdout"
        }
      ]
    },
    {
      "cell_type": "markdown",
      "metadata": {
        "id": "ueyWDqcFyfnO"
      },
      "source": [
        "# Data Types"
      ]
    },
    {
      "cell_type": "markdown",
      "metadata": {
        "id": "SG3GUYF-X6-o"
      },
      "source": [
        "Float"
      ]
    },
    {
      "cell_type": "code",
      "metadata": {
        "colab": {
          "base_uri": "https://localhost:8080/"
        },
        "id": "IRpcEfkHX6MO",
        "outputId": "baecb16e-0f9f-4868-ccce-458569297a90"
      },
      "source": [
        "num = 12.90 # Notice 0 gets omitted when printing, it's redundant\r\n",
        "num"
      ],
      "execution_count": 59,
      "outputs": [
        {
          "output_type": "execute_result",
          "data": {
            "text/plain": [
              "12.9"
            ]
          },
          "metadata": {
            "tags": []
          },
          "execution_count": 59
        }
      ]
    },
    {
      "cell_type": "code",
      "metadata": {
        "colab": {
          "base_uri": "https://localhost:8080/"
        },
        "id": "jtnMRZUTYHSz",
        "outputId": "c6eab22a-081b-42a5-cc12-8fc1e1bfaa7a"
      },
      "source": [
        "num1 = 12.398475938492563\r\n",
        "num1"
      ],
      "execution_count": 24,
      "outputs": [
        {
          "output_type": "execute_result",
          "data": {
            "text/plain": [
              "12.398475938492563"
            ]
          },
          "metadata": {
            "tags": []
          },
          "execution_count": 24
        }
      ]
    },
    {
      "cell_type": "code",
      "metadata": {
        "colab": {
          "base_uri": "https://localhost:8080/"
        },
        "id": "piGuG-GJYRfz",
        "outputId": "eee616ef-da1d-4385-e457-6b8caad82cd3"
      },
      "source": [
        "# Printing pi: import math library to get access\r\n",
        "# Automatically stops at 15th decimal place so as not to run forever\r\n",
        "\r\n",
        "math.pi"
      ],
      "execution_count": 26,
      "outputs": [
        {
          "output_type": "execute_result",
          "data": {
            "text/plain": [
              "3.141592653589793"
            ]
          },
          "metadata": {
            "tags": []
          },
          "execution_count": 26
        }
      ]
    },
    {
      "cell_type": "markdown",
      "metadata": {
        "id": "Ai0sY3mAyti9"
      },
      "source": [
        "Boolean"
      ]
    },
    {
      "cell_type": "code",
      "metadata": {
        "id": "naUiNGriYhe0"
      },
      "source": [
        "game = True # True / False values capitalized in Python\r\n",
        "playstation = False"
      ],
      "execution_count": 55,
      "outputs": []
    },
    {
      "cell_type": "code",
      "metadata": {
        "colab": {
          "base_uri": "https://localhost:8080/"
        },
        "id": "uO2lhkfnZHUF",
        "outputId": "e3da74bb-2aa7-4bf2-e2e9-7ad1e79653b7"
      },
      "source": [
        "type(num) # Prints data type"
      ],
      "execution_count": 52,
      "outputs": [
        {
          "output_type": "execute_result",
          "data": {
            "text/plain": [
              "float"
            ]
          },
          "metadata": {
            "tags": []
          },
          "execution_count": 52
        }
      ]
    },
    {
      "cell_type": "code",
      "metadata": {
        "colab": {
          "base_uri": "https://localhost:8080/"
        },
        "id": "DTHuBeKLZLa8",
        "outputId": "3e2c95f2-6d9b-41c2-e312-95e7f58856cd"
      },
      "source": [
        "type(game)"
      ],
      "execution_count": 53,
      "outputs": [
        {
          "output_type": "execute_result",
          "data": {
            "text/plain": [
              "bool"
            ]
          },
          "metadata": {
            "tags": []
          },
          "execution_count": 53
        }
      ]
    },
    {
      "cell_type": "code",
      "metadata": {
        "colab": {
          "base_uri": "https://localhost:8080/"
        },
        "id": "6I6wMXwOx8m4",
        "outputId": "1176bfd2-b5c1-4e6c-d1ec-1ac6a979e2a0"
      },
      "source": [
        "type(math.pi)\r\n",
        "type(playstation) # Huh. Does it only run the most recent (lowest) entry in the cell?"
      ],
      "execution_count": 57,
      "outputs": [
        {
          "output_type": "execute_result",
          "data": {
            "text/plain": [
              "bool"
            ]
          },
          "metadata": {
            "tags": []
          },
          "execution_count": 57
        }
      ]
    },
    {
      "cell_type": "code",
      "metadata": {
        "colab": {
          "base_uri": "https://localhost:8080/"
        },
        "id": "_rO396muySic",
        "outputId": "b68d151f-b432-4783-e1f4-63f1f2b999ee"
      },
      "source": [
        "print(type(math.pi))\r\n",
        "print(type(playstation))\r\n",
        "print(playstation) # inch resting"
      ],
      "execution_count": 68,
      "outputs": [
        {
          "output_type": "stream",
          "text": [
            "<class 'float'>\n",
            "<class 'bool'>\n",
            "False\n"
          ],
          "name": "stdout"
        }
      ]
    },
    {
      "cell_type": "markdown",
      "metadata": {
        "id": "ezyiwT6-ywhN"
      },
      "source": [
        "List"
      ]
    },
    {
      "cell_type": "code",
      "metadata": {
        "colab": {
          "base_uri": "https://localhost:8080/"
        },
        "id": "Vm_FWltpZNuk",
        "outputId": "0eeff908-5854-47f8-b531-a672ba4363ca"
      },
      "source": [
        "listExample = [\"hello\", \"world\", \"goodbye\"] # SQUARE BRACKETS FOR LISTS!\r\n",
        "listExample"
      ],
      "execution_count": 64,
      "outputs": [
        {
          "output_type": "execute_result",
          "data": {
            "text/plain": [
              "['hello', 'world', 'goodbye']"
            ]
          },
          "metadata": {
            "tags": []
          },
          "execution_count": 64
        }
      ]
    },
    {
      "cell_type": "code",
      "metadata": {
        "colab": {
          "base_uri": "https://localhost:8080/"
        },
        "id": "sRcGAS6ay8oz",
        "outputId": "33e4c94e-f5c5-47d6-aee7-56e502b8b608"
      },
      "source": [
        "print(listExample)"
      ],
      "execution_count": 65,
      "outputs": [
        {
          "output_type": "stream",
          "text": [
            "['hello', 'world', 'goodbye']\n"
          ],
          "name": "stdout"
        }
      ]
    },
    {
      "cell_type": "code",
      "metadata": {
        "colab": {
          "base_uri": "https://localhost:8080/"
        },
        "id": "BMwksBgOy-zG",
        "outputId": "5526d522-7faf-4a05-c59c-f8ad72b7fb44"
      },
      "source": [
        "listExample\r\n",
        "print(listExample) # So this just runs the recent one? Is it because it's redundant in this case? (Even though the type one from above isn't bc math.pi is a float...)"
      ],
      "execution_count": 69,
      "outputs": [
        {
          "output_type": "stream",
          "text": [
            "['hello', 'world', 'goodbye']\n"
          ],
          "name": "stdout"
        }
      ]
    },
    {
      "cell_type": "markdown",
      "metadata": {
        "id": "IULE5PO2Z3XC"
      },
      "source": [
        "Create 10 lists, 10 booleans, 10 floats"
      ]
    },
    {
      "cell_type": "code",
      "metadata": {
        "id": "PMpUHrkHZdyz"
      },
      "source": [
        "list1 = [1, 2, 3] # BRACKETS\r\n",
        "list2 = [4, 5, 6]\r\n",
        "list3 = [\"a\", \"b\", \"c\"]           # Encase in quotes so they're strings, if just list4 = [a, b, c] those could be variables and in this case, are unassigned - might not run\r\n",
        "list4 = ['d', 'e', 'f']           # Just do single quotes, prob faster in the long run (no shift)\r\n",
        "list5 = [\"g\", \"h\", 'i', 10, game] # Can mix data types!\r\n",
        "list6 = [list2, list3]            # Can I put a list in a list?\r\n",
        "list7 = [3.4, num1, \"yeehaw\"]\r\n",
        "list8 = [\"monday\", 'tuesday', 'wednesday', \"thursday\"]\r\n",
        "list9 = ['friday', 'saturday', 'sunday']\r\n",
        "list10 = []                       # Do we call this an empty list? \r\n",
        "\r\n",
        "bool1 = 0       # I think these can hold integers?\r\n",
        "bool2 = 1\r\n",
        "bool3 = True    # T/F capitalized for boolean values\r\n",
        "bool4 = False\r\n",
        "bool5 = True\r\n",
        "bool6 = False\r\n",
        "bool7 = 11\r\n",
        "bool8 = 12\r\n",
        "bool9 = 13.57   # What about decimals :0\r\n",
        "bool10 = -6     # IIRC anything that isn't 0 is true so even if negative this would return True\r\n",
        "\r\n",
        "float1 = 1.2\r\n",
        "float2 = 2.3 \r\n",
        "float3 = 3.456\r\n",
        "float4 = 2452.9879235\r\n",
        "float5 = 0.0\r\n",
        "float6 = 0.0000000000001\r\n",
        "float7 = 9.9999999999999\r\n",
        "float8 = math.pi\r\n",
        "float9 = 6.9    # Nice\r\n",
        "float10 = 10.0"
      ],
      "execution_count": 50,
      "outputs": []
    },
    {
      "cell_type": "code",
      "metadata": {
        "colab": {
          "base_uri": "https://localhost:8080/"
        },
        "id": "FnFFbXXWiXL5",
        "outputId": "6e636a30-c509-4628-e318-dcf126e65b4c"
      },
      "source": [
        "# Dictionary - this is just Python's name for an array\r\n",
        "# CURLY BRACKETS\r\n",
        "\r\n",
        "dictExample = {'key': 'value', 'key2': 'value2', 'key3': 'value3'}\r\n",
        "dictExample"
      ],
      "execution_count": 39,
      "outputs": [
        {
          "output_type": "execute_result",
          "data": {
            "text/plain": [
              "{'key': 'value', 'key2': 'value2', 'key3': 'value3'}"
            ]
          },
          "metadata": {
            "tags": []
          },
          "execution_count": 39
        }
      ]
    },
    {
      "cell_type": "markdown",
      "metadata": {
        "id": "leDfcNyllHcL"
      },
      "source": [
        "Create:\r\n",
        "- dict1 = 10 foods\r\n",
        "- dict2 = 10 names\r\n",
        "- dict3 = 5 sports players "
      ]
    },
    {
      "cell_type": "code",
      "metadata": {
        "colab": {
          "base_uri": "https://localhost:8080/"
        },
        "id": "wiAiwb0yizSA",
        "outputId": "558efd03-40d0-4373-a904-0d02c50fb420"
      },
      "source": [
        "dict1 = {\r\n",
        "    'fruit': 'apple',\r\n",
        "    'vegetable': 'carrot',\r\n",
        "    'tuber': 'potato',\r\n",
        "    'legume': 'pinto',\r\n",
        "    'yam': 'ube',\r\n",
        "    'soup': 'french onion',\r\n",
        "    'meat': 'beef',\r\n",
        "    'dairy': 'milk',\r\n",
        "    'dessert': 'cake',\r\n",
        "    'granola': 'bar' # lol\r\n",
        "}\r\n",
        "\r\n",
        "dict2 = { # Can assign a list to the same key to save time\r\n",
        "    'names': [\r\n",
        "        'Anna', \r\n",
        "        'Burton', \r\n",
        "        'Chester', \r\n",
        "        'Diana', \r\n",
        "        'Elmer', \r\n",
        "        'Fred', \r\n",
        "        'George', \r\n",
        "        'Heather', \r\n",
        "        'Irene', \r\n",
        "        'Julia'\r\n",
        "    ]\r\n",
        "} \r\n",
        "\r\n",
        "dict3 = {\r\n",
        "    'point guard': 'Elfrid Payton',\r\n",
        "    'shooting guard': 'Austin Rivers',\r\n",
        "    'small forward': 'RJ Barrett',\r\n",
        "    'power forward': 'Obi Toppin',\r\n",
        "    'center': 'Mitchell Robinson'\r\n",
        "}\r\n",
        "\r\n",
        "print(dict1)\r\n",
        "print(dict2)\r\n",
        "print(dict3)"
      ],
      "execution_count": 44,
      "outputs": [
        {
          "output_type": "stream",
          "text": [
            "{'fruit': 'apple', 'vegetable': 'carrot', 'tuber': 'potato', 'legume': 'pinto', 'yam': 'ube', 'soup': 'french onion', 'meat': 'beef', 'dairy': 'milk', 'dessert': 'cake', 'granola': 'bar'}\n",
            "{'names': ['Anna', 'Burton', 'Chester', 'Diana', 'Elmer', 'Fred', 'George', 'Heather', 'Irene', 'Julia']}\n",
            "{'point guard': 'Elfrid Payton', 'shooting guard': 'Austin Rivers', 'small forward': 'RJ Barrett', 'power forward': 'Obi Toppin', 'center': 'Mitchell Robinson'}\n"
          ],
          "name": "stdout"
        }
      ]
    }
  ]
}