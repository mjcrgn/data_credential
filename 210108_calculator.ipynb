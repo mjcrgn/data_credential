{
  "nbformat": 4,
  "nbformat_minor": 0,
  "metadata": {
    "colab": {
      "name": "210108 calculator.ipynb",
      "provenance": [],
      "authorship_tag": "ABX9TyNUYT9x6e1hWA2ACUiGnUpW",
      "include_colab_link": true
    },
    "kernelspec": {
      "name": "python3",
      "display_name": "Python 3"
    }
  },
  "cells": [
    {
      "cell_type": "markdown",
      "metadata": {
        "id": "view-in-github",
        "colab_type": "text"
      },
      "source": [
        "<a href=\"https://colab.research.google.com/github/mjcrgn/python-practice/blob/master/210108_calculator.ipynb\" target=\"_parent\"><img src=\"https://colab.research.google.com/assets/colab-badge.svg\" alt=\"Open In Colab\"/></a>"
      ]
    },
    {
      "cell_type": "code",
      "metadata": {
        "id": "USLAjn_LVaIL"
      },
      "source": [
        "# Group - Ariana, Jose, MJ, Nicholas, Nurbu"
      ],
      "execution_count": null,
      "outputs": []
    },
    {
      "cell_type": "code",
      "metadata": {
        "id": "pA5MI1EjWZn3"
      },
      "source": [
        "# Arithmetic functions\r\n",
        "\r\n",
        "def add (a, b):\r\n",
        "  return a + b\r\n",
        "\r\n",
        "def sub(a, b):\r\n",
        "  return b - a\r\n",
        "\r\n",
        "def mult(a, b):\r\n",
        "  return a * b\r\n",
        "\r\n",
        "def divide(a, b):\r\n",
        "  return a / b"
      ],
      "execution_count": null,
      "outputs": []
    },
    {
      "cell_type": "code",
      "metadata": {
        "id": "-uQIqj3hXrQS"
      },
      "source": [
        "def calc():\r\n",
        "  '''\r\n",
        "  A simple calculator to perform binary mathematical operations\r\n",
        "  '''\r\n",
        "\r\n",
        "  # Boolean for running the calculator\r\n",
        "  is_running = True\r\n",
        "  # Running total to be saved by the calculator if the user wishes to save it\r\n",
        "  result = 0\r\n",
        "  # Boolean for saving the previous computation\r\n",
        "  save = False\r\n",
        "\r\n",
        "  while is_running:\r\n",
        "    operation = input('Enter a mathematical operator (+, -, *, /) [PRESS Q TO QUIT]: ')\r\n",
        "\r\n",
        "    # Checks if the user wishes to quit\r\n",
        "    if operation == 'Q':\r\n",
        "      break\r\n",
        "\r\n",
        "    # Checks if the user wanted to save the previous computation\r\n",
        "    # If he/she does, the previous computation becomes the first operand\r\n",
        "    if not save:\r\n",
        "      op1 = float(input('Enter the first operand: '))\r\n",
        "    else:\r\n",
        "      op1 = result\r\n",
        "    op2 = float(input('Enter the second operand: '))\r\n",
        "\r\n",
        "    # Checks which binary operation the user requested\r\n",
        "    if operation == '+':\r\n",
        "      result = add(op1, op2)\r\n",
        "      print('The result is', result)\r\n",
        "    elif operation == '-':\r\n",
        "      result = sub(op1, op2)\r\n",
        "      print('The result is', result)\r\n",
        "    elif operation == '*':\r\n",
        "      result = mult(op1, op2)\r\n",
        "      print('The result is', result)\r\n",
        "    elif operation == '/':\r\n",
        "      result = divide(op1, op2)\r\n",
        "      print('The result is', result)\r\n",
        "    else:\r\n",
        "      print(operation, 'is not a valid operation')\r\n",
        "\r\n",
        "    # Asks the user if they would like to save the previous computation\r\n",
        "    temp = input('Would you like to save the previous value [Y/N]? [PRESS Q TO QUIT]: ')\r\n",
        "    if temp == 'Y':\r\n",
        "      save = True\r\n",
        "    elif temp == 'Q':\r\n",
        "      break\r\n",
        "    else:\r\n",
        "      save = False"
      ],
      "execution_count": null,
      "outputs": []
    },
    {
      "cell_type": "code",
      "metadata": {
        "colab": {
          "base_uri": "https://localhost:8080/"
        },
        "id": "TC0BBclCYqJc",
        "outputId": "ae627d52-ca0b-4b18-f837-6bfae42151e0"
      },
      "source": [
        "calc()"
      ],
      "execution_count": null,
      "outputs": [
        {
          "output_type": "stream",
          "text": [
            "Enter a mathematical operator (+, -, *, /) [PRESS Q TO QUIT]: -\n",
            "Enter the first operand: 6\n",
            "Enter the second operand: -389\n",
            "The result is -395.0\n",
            "Would you like to save the previous value [Y/N]? [PRESS Q TO QUIT]: Y\n",
            "Enter a mathematical operator (+, -, *, /) [PRESS Q TO QUIT]: /\n",
            "Enter the second operand: 67\n",
            "The result is -5.895522388059701\n",
            "Would you like to save the previous value [Y/N]? [PRESS Q TO QUIT]: N\n",
            "Enter a mathematical operator (+, -, *, /) [PRESS Q TO QUIT]: Q\n"
          ],
          "name": "stdout"
        }
      ]
    }
  ]
}