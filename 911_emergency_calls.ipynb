{
  "nbformat": 4,
  "nbformat_minor": 0,
  "metadata": {
    "colab": {
      "name": "911 emergency calls.ipynb",
      "provenance": [],
      "mount_file_id": "1F5Tye7WbFbvdzu06dUJC1-eY38A9042A",
      "authorship_tag": "ABX9TyOxA9Vbes++lY4c9qYClJ8Z",
      "include_colab_link": true
    },
    "kernelspec": {
      "name": "python3",
      "display_name": "Python 3"
    }
  },
  "cells": [
    {
      "cell_type": "markdown",
      "metadata": {
        "id": "view-in-github",
        "colab_type": "text"
      },
      "source": [
        "<a href=\"https://colab.research.google.com/github/mjcrgn/data_credential/blob/master/911_emergency_calls.ipynb\" target=\"_parent\"><img src=\"https://colab.research.google.com/assets/colab-badge.svg\" alt=\"Open In Colab\"/></a>"
      ]
    },
    {
      "cell_type": "markdown",
      "metadata": {
        "id": "GHk9OZbtm8Xr"
      },
      "source": [
        "#Case Study\r\n",
        "\r\n",
        "Congrats! You have been contracted to conduct a brief analysis of a dataset containing ememrgency calls in order to determine the allocation of funds to you local authorities.  This analysis will play a role in deciding changes to the emergency response department.\r\n",
        "\r\n",
        "The data is based in 911 emergency calls and your job is to determine a variety of issues regarding said calls.\r\n",
        "\r\n",
        "Using Pandas and Numpy, analyse the data and come up with 5 questions that you would like to answer about the data.\r\n",
        "\r\n",
        "\r\n",
        "###*Group: Ariana, MJ, Safiyyah, Sarah*"
      ]
    },
    {
      "cell_type": "markdown",
      "metadata": {
        "id": "D5QJQwojnKwU"
      },
      "source": [
        "#Import data\r\n"
      ]
    },
    {
      "cell_type": "code",
      "metadata": {
        "id": "uEY29CnZmwSF"
      },
      "source": [
        "import numpy as np\r\n",
        "import pandas as pd\r\n",
        "import matplotlib as plt\r\n",
        "%matplotlib inline\r\n",
        "import seaborn as sns\r\n",
        "sns.set() # Sets graph backgrounds as grids"
      ],
      "execution_count": 1,
      "outputs": []
    },
    {
      "cell_type": "code",
      "metadata": {
        "id": "M9v_xywCnNmV"
      },
      "source": [
        "df = pd.read_csv(\r\n",
        "    '/content/drive/MyDrive/qc/school/CSCI/data credential/projects/data/210112 911 emergency calls.csv'\r\n",
        ")"
      ],
      "execution_count": 2,
      "outputs": []
    },
    {
      "cell_type": "markdown",
      "metadata": {
        "id": "P8PqsMAvn0j4"
      },
      "source": [
        "#General info"
      ]
    },
    {
      "cell_type": "code",
      "metadata": {
        "colab": {
          "base_uri": "https://localhost:8080/"
        },
        "id": "BaBCsoSGnRai",
        "outputId": "440f7865-5266-415e-faf8-82653b11ab43"
      },
      "source": [
        "df.info() # Retrieve general info about entire dataset"
      ],
      "execution_count": 3,
      "outputs": [
        {
          "output_type": "stream",
          "text": [
            "<class 'pandas.core.frame.DataFrame'>\n",
            "RangeIndex: 99492 entries, 0 to 99491\n",
            "Data columns (total 9 columns):\n",
            " #   Column     Non-Null Count  Dtype  \n",
            "---  ------     --------------  -----  \n",
            " 0   lat        99492 non-null  float64\n",
            " 1   lng        99492 non-null  float64\n",
            " 2   desc       99492 non-null  object \n",
            " 3   zip        86637 non-null  float64\n",
            " 4   title      99492 non-null  object \n",
            " 5   timeStamp  99492 non-null  object \n",
            " 6   twp        99449 non-null  object \n",
            " 7   addr       98973 non-null  object \n",
            " 8   e          99492 non-null  int64  \n",
            "dtypes: float64(3), int64(1), object(5)\n",
            "memory usage: 6.8+ MB\n"
          ],
          "name": "stdout"
        }
      ]
    },
    {
      "cell_type": "code",
      "metadata": {
        "colab": {
          "base_uri": "https://localhost:8080/",
          "height": 293
        },
        "id": "C3z0BpWjn5Wz",
        "outputId": "3038362c-de8b-46be-c29f-2251026172b6"
      },
      "source": [
        "df.head() # Retrieve first 5 rows of dataset"
      ],
      "execution_count": 4,
      "outputs": [
        {
          "output_type": "execute_result",
          "data": {
            "text/html": [
              "<div>\n",
              "<style scoped>\n",
              "    .dataframe tbody tr th:only-of-type {\n",
              "        vertical-align: middle;\n",
              "    }\n",
              "\n",
              "    .dataframe tbody tr th {\n",
              "        vertical-align: top;\n",
              "    }\n",
              "\n",
              "    .dataframe thead th {\n",
              "        text-align: right;\n",
              "    }\n",
              "</style>\n",
              "<table border=\"1\" class=\"dataframe\">\n",
              "  <thead>\n",
              "    <tr style=\"text-align: right;\">\n",
              "      <th></th>\n",
              "      <th>lat</th>\n",
              "      <th>lng</th>\n",
              "      <th>desc</th>\n",
              "      <th>zip</th>\n",
              "      <th>title</th>\n",
              "      <th>timeStamp</th>\n",
              "      <th>twp</th>\n",
              "      <th>addr</th>\n",
              "      <th>e</th>\n",
              "    </tr>\n",
              "  </thead>\n",
              "  <tbody>\n",
              "    <tr>\n",
              "      <th>0</th>\n",
              "      <td>40.297876</td>\n",
              "      <td>-75.581294</td>\n",
              "      <td>REINDEER CT &amp; DEAD END;  NEW HANOVER; Station ...</td>\n",
              "      <td>19525.0</td>\n",
              "      <td>EMS: BACK PAINS/INJURY</td>\n",
              "      <td>2015-12-10 17:40:00</td>\n",
              "      <td>NEW HANOVER</td>\n",
              "      <td>REINDEER CT &amp; DEAD END</td>\n",
              "      <td>1</td>\n",
              "    </tr>\n",
              "    <tr>\n",
              "      <th>1</th>\n",
              "      <td>40.258061</td>\n",
              "      <td>-75.264680</td>\n",
              "      <td>BRIAR PATH &amp; WHITEMARSH LN;  HATFIELD TOWNSHIP...</td>\n",
              "      <td>19446.0</td>\n",
              "      <td>EMS: DIABETIC EMERGENCY</td>\n",
              "      <td>2015-12-10 17:40:00</td>\n",
              "      <td>HATFIELD TOWNSHIP</td>\n",
              "      <td>BRIAR PATH &amp; WHITEMARSH LN</td>\n",
              "      <td>1</td>\n",
              "    </tr>\n",
              "    <tr>\n",
              "      <th>2</th>\n",
              "      <td>40.121182</td>\n",
              "      <td>-75.351975</td>\n",
              "      <td>HAWS AVE; NORRISTOWN; 2015-12-10 @ 14:39:21-St...</td>\n",
              "      <td>19401.0</td>\n",
              "      <td>Fire: GAS-ODOR/LEAK</td>\n",
              "      <td>2015-12-10 17:40:00</td>\n",
              "      <td>NORRISTOWN</td>\n",
              "      <td>HAWS AVE</td>\n",
              "      <td>1</td>\n",
              "    </tr>\n",
              "    <tr>\n",
              "      <th>3</th>\n",
              "      <td>40.116153</td>\n",
              "      <td>-75.343513</td>\n",
              "      <td>AIRY ST &amp; SWEDE ST;  NORRISTOWN; Station 308A;...</td>\n",
              "      <td>19401.0</td>\n",
              "      <td>EMS: CARDIAC EMERGENCY</td>\n",
              "      <td>2015-12-10 17:40:01</td>\n",
              "      <td>NORRISTOWN</td>\n",
              "      <td>AIRY ST &amp; SWEDE ST</td>\n",
              "      <td>1</td>\n",
              "    </tr>\n",
              "    <tr>\n",
              "      <th>4</th>\n",
              "      <td>40.251492</td>\n",
              "      <td>-75.603350</td>\n",
              "      <td>CHERRYWOOD CT &amp; DEAD END;  LOWER POTTSGROVE; S...</td>\n",
              "      <td>NaN</td>\n",
              "      <td>EMS: DIZZINESS</td>\n",
              "      <td>2015-12-10 17:40:01</td>\n",
              "      <td>LOWER POTTSGROVE</td>\n",
              "      <td>CHERRYWOOD CT &amp; DEAD END</td>\n",
              "      <td>1</td>\n",
              "    </tr>\n",
              "  </tbody>\n",
              "</table>\n",
              "</div>"
            ],
            "text/plain": [
              "         lat        lng  ...                        addr  e\n",
              "0  40.297876 -75.581294  ...      REINDEER CT & DEAD END  1\n",
              "1  40.258061 -75.264680  ...  BRIAR PATH & WHITEMARSH LN  1\n",
              "2  40.121182 -75.351975  ...                    HAWS AVE  1\n",
              "3  40.116153 -75.343513  ...          AIRY ST & SWEDE ST  1\n",
              "4  40.251492 -75.603350  ...    CHERRYWOOD CT & DEAD END  1\n",
              "\n",
              "[5 rows x 9 columns]"
            ]
          },
          "metadata": {
            "tags": []
          },
          "execution_count": 4
        }
      ]
    },
    {
      "cell_type": "markdown",
      "metadata": {
        "id": "TnQXlVd7n95b"
      },
      "source": [
        "#Questions\r\n",
        "\r\n",
        "1. What were the top 5 reasons for calling 911?\r\n",
        "2. What were the 5 most common zip codes that called 911?\r\n",
        "3. Which addresses had more than 5 calls to 911?\r\n",
        "4. What was the least common township that called 911?\r\n",
        "5. What was the most common hour of the day to call 911?"
      ]
    },
    {
      "cell_type": "markdown",
      "metadata": {
        "id": "jQMy7p1roAKr"
      },
      "source": [
        "###1. What were the top 5 reasons for calling 911?"
      ]
    },
    {
      "cell_type": "code",
      "metadata": {
        "colab": {
          "base_uri": "https://localhost:8080/"
        },
        "id": "BWH3RkPXn9ha",
        "outputId": "30359c8d-6400-48ea-b610-0de48e074ce5"
      },
      "source": [
        "# From column 'title' return counts of unique rows\r\n",
        "# Display top 5\r\n",
        "\r\n",
        "df['title'].value_counts().head()"
      ],
      "execution_count": 5,
      "outputs": [
        {
          "output_type": "execute_result",
          "data": {
            "text/plain": [
              "Traffic: VEHICLE ACCIDENT -    23066\n",
              "Traffic: DISABLED VEHICLE -     7702\n",
              "Fire: FIRE ALARM                5496\n",
              "EMS: RESPIRATORY EMERGENCY      5112\n",
              "EMS: CARDIAC EMERGENCY          5012\n",
              "Name: title, dtype: int64"
            ]
          },
          "metadata": {
            "tags": []
          },
          "execution_count": 5
        }
      ]
    },
    {
      "cell_type": "code",
      "metadata": {
        "colab": {
          "base_uri": "https://localhost:8080/"
        },
        "id": "TJDOHzdOn7JF",
        "outputId": "d45f91e3-e49a-4a24-d032-119dcc0879da"
      },
      "source": [
        "question1 = '''\r\n",
        "According to Group 5's analysis, the top 5 reasons for calling 911 are:\r\n",
        "\t1. Traffic: Vehicle accident\r\n",
        "\t2. Traffic: Disabled vehicle\r\n",
        "\t3. Fire: Fire alarm\r\n",
        "\t4. EMS: Respiratory emergency\r\n",
        "\t5. EMS: Cardiac emergency\r\n",
        "'''\r\n",
        "\r\n",
        "print(question1)"
      ],
      "execution_count": 6,
      "outputs": [
        {
          "output_type": "stream",
          "text": [
            "\n",
            "According to Group 5's analysis, the top 5 reasons for calling 911 are:\n",
            "\t1. Traffic: Vehicle accident\n",
            "\t2. Traffic: Disabled vehicle\n",
            "\t3. Fire: Fire alarm\n",
            "\t4. EMS: Respiratory emergency\n",
            "\t5. EMS: Cardiac emergency\n",
            "\n"
          ],
          "name": "stdout"
        }
      ]
    },
    {
      "cell_type": "markdown",
      "metadata": {
        "id": "S7Fapd4voMZr"
      },
      "source": [
        "###2. What were the 5 most common zip codes that called 911?"
      ]
    },
    {
      "cell_type": "code",
      "metadata": {
        "colab": {
          "base_uri": "https://localhost:8080/"
        },
        "id": "MQlOGePQoa0Z",
        "outputId": "9520c515-5983-4255-be75-96f1cc5498fa"
      },
      "source": [
        "# From column 'zip' return counts of unique rows\r\n",
        "# Display top 5\r\n",
        "\r\n",
        "df['zip'].value_counts().head()"
      ],
      "execution_count": 7,
      "outputs": [
        {
          "output_type": "execute_result",
          "data": {
            "text/plain": [
              "19401.0    6979\n",
              "19464.0    6643\n",
              "19403.0    4854\n",
              "19446.0    4748\n",
              "19406.0    3174\n",
              "Name: zip, dtype: int64"
            ]
          },
          "metadata": {
            "tags": []
          },
          "execution_count": 7
        }
      ]
    },
    {
      "cell_type": "code",
      "metadata": {
        "colab": {
          "base_uri": "https://localhost:8080/"
        },
        "id": "5cUZOB1PocDx",
        "outputId": "8048d9f5-0a45-480c-e4f1-d3072001e7e7"
      },
      "source": [
        "question2 = '''\r\n",
        "According to Group 5's analysis, the top 5 zip codes where 911 was called are:\r\n",
        "\t1. 19401\r\n",
        "\t2. 19464\r\n",
        "\t3. 19403\r\n",
        "\t4. 19446\r\n",
        "\t5. 19406\r\n",
        "'''\r\n",
        "\r\n",
        "print(question2)"
      ],
      "execution_count": 8,
      "outputs": [
        {
          "output_type": "stream",
          "text": [
            "\n",
            "According to Group 5's analysis, the top 5 zip codes where 911 was called are:\n",
            "\t1. 19401\n",
            "\t2. 19464\n",
            "\t3. 19403\n",
            "\t4. 19446\n",
            "\t5. 19406\n",
            "\n"
          ],
          "name": "stdout"
        }
      ]
    },
    {
      "cell_type": "markdown",
      "metadata": {
        "id": "kejjjdGloOGP"
      },
      "source": [
        "###3. Which addresses had more than 5 calls to 911?"
      ]
    },
    {
      "cell_type": "code",
      "metadata": {
        "colab": {
          "base_uri": "https://localhost:8080/"
        },
        "id": "xkFnbsCKofxH",
        "outputId": "d504c19b-1ff6-42b5-8207-6fe798be391a"
      },
      "source": [
        "# In column 'addr' find where there have been at least 5 instances (i.e. called 911 at least 5 times)\r\n",
        "\r\n",
        "df['addr'].value_counts() > 5"
      ],
      "execution_count": 9,
      "outputs": [
        {
          "output_type": "execute_result",
          "data": {
            "text/plain": [
              "SHANNONDELL DR & SHANNONDELL BLVD        True\n",
              "MAIN ST & OLD SUMNEYTOWN PIKE            True\n",
              "THE FAIRWAY  & RYDAL RD                  True\n",
              "GULPH RD & KIRK AVE                      True\n",
              "EVERGREEN RD & W LIGHTCAP RD             True\n",
              "                                        ...  \n",
              "S BRYN MAWR AVE & W OLD RAILROAD AVE    False\n",
              "COMMONS LN & TRAPPE RD                  False\n",
              "BRIGHTON PL & HIGH SCHOOL RD            False\n",
              "ELLISTON DR & LEA CIR                   False\n",
              "DUELL ST                                False\n",
              "Name: addr, Length: 21914, dtype: bool"
            ]
          },
          "metadata": {
            "tags": []
          },
          "execution_count": 9
        }
      ]
    },
    {
      "cell_type": "code",
      "metadata": {
        "colab": {
          "base_uri": "https://localhost:8080/"
        },
        "id": "aWpR4LcnoiV-",
        "outputId": "e726a308-76c7-4f48-80d8-efc369f00aaf"
      },
      "source": [
        "# How to isolate only rows with True values?\r\n",
        "# Use for loop to retrieve all addresses where addr_morethan5 > 5\r\n",
        "# Concatenate all addresses in print statement\r\n",
        "\r\n",
        "addr_morethan5 = df['addr'].value_counts()\r\n",
        "addr_morethan5"
      ],
      "execution_count": 10,
      "outputs": [
        {
          "output_type": "execute_result",
          "data": {
            "text/plain": [
              "SHANNONDELL DR & SHANNONDELL BLVD       938\n",
              "MAIN ST & OLD SUMNEYTOWN PIKE           390\n",
              "THE FAIRWAY  & RYDAL RD                 260\n",
              "GULPH RD & KIRK AVE                     235\n",
              "EVERGREEN RD & W LIGHTCAP RD            232\n",
              "                                       ... \n",
              "S BRYN MAWR AVE & W OLD RAILROAD AVE      1\n",
              "COMMONS LN & TRAPPE RD                    1\n",
              "BRIGHTON PL & HIGH SCHOOL RD              1\n",
              "ELLISTON DR & LEA CIR                     1\n",
              "DUELL ST                                  1\n",
              "Name: addr, Length: 21914, dtype: int64"
            ]
          },
          "metadata": {
            "tags": []
          },
          "execution_count": 10
        }
      ]
    },
    {
      "cell_type": "code",
      "metadata": {
        "id": "MaTokWKypALf"
      },
      "source": [
        "# for loop (IN PROGRESS)\r\n",
        "\r\n",
        "# Create empty list to hold addresses\r\n",
        "addr_morethan5_list = []\r\n",
        "\r\n",
        "# for addr in df['addr']:\r\n",
        "#    if df['addr'].value_counts() > 5 == True:\r\n",
        "#        #append to list"
      ],
      "execution_count": 11,
      "outputs": []
    },
    {
      "cell_type": "code",
      "metadata": {
        "colab": {
          "base_uri": "https://localhost:8080/"
        },
        "id": "NS03uW5-pLge",
        "outputId": "b6fc2412-51f0-47ef-c2ef-48a4b4a90c38"
      },
      "source": [
        "question3 = '''\r\n",
        "According to Group 5's analysis, these are the addresses that called 911 more than 5 times:\r\n",
        "\r\n",
        "# concatenate all strings where value_counts() > 5 from 'addr'\r\n",
        "\r\n",
        "'''\r\n",
        "\r\n",
        "print(question3)"
      ],
      "execution_count": 12,
      "outputs": [
        {
          "output_type": "stream",
          "text": [
            "\n",
            "According to Group 5's analysis, these are the addresses that called 911 more than 5 times:\n",
            "\n",
            "# concatenate all strings where value_counts() > 5 from 'addr'\n",
            "\n",
            "\n"
          ],
          "name": "stdout"
        }
      ]
    },
    {
      "cell_type": "markdown",
      "metadata": {
        "id": "hyUd9FLpoQpX"
      },
      "source": [
        "###4. What was the least common township that called 911?"
      ]
    },
    {
      "cell_type": "code",
      "metadata": {
        "colab": {
          "base_uri": "https://localhost:8080/"
        },
        "id": "ogYy5GQxplQh",
        "outputId": "cf986765-7cdb-44d7-b919-1c8754322ade"
      },
      "source": [
        "# Counts of unique rows in 'twp' but return LAST row with .tail(1)\r\n",
        "\r\n",
        "df['twp'].value_counts().tail(1)"
      ],
      "execution_count": 13,
      "outputs": [
        {
          "output_type": "execute_result",
          "data": {
            "text/plain": [
              "LEHIGH COUNTY    30\n",
              "Name: twp, dtype: int64"
            ]
          },
          "metadata": {
            "tags": []
          },
          "execution_count": 13
        }
      ]
    },
    {
      "cell_type": "code",
      "metadata": {
        "colab": {
          "base_uri": "https://localhost:8080/"
        },
        "id": "Jqsy-4y_pm5j",
        "outputId": "2023f08f-4082-4210-89e9-74c35705453f"
      },
      "source": [
        "question4 = '''\r\n",
        "According to Group 5's analysis, the least common township where 911 was called is Lehigh County.\r\n",
        "'''\r\n",
        "\r\n",
        "print(question4)"
      ],
      "execution_count": 14,
      "outputs": [
        {
          "output_type": "stream",
          "text": [
            "\n",
            "According to Group 5's analysis, the least common township where 911 was called is Lehigh County.\n",
            "\n"
          ],
          "name": "stdout"
        }
      ]
    },
    {
      "cell_type": "markdown",
      "metadata": {
        "id": "6Z6LYFxuoUSz"
      },
      "source": [
        "###5. What was the most common hour of the day to call 911?"
      ]
    },
    {
      "cell_type": "code",
      "metadata": {
        "id": "3gMIUbLhoJN6"
      },
      "source": [
        "# Split 'title' column into Department and Reason\r\n",
        "\r\n",
        "df['Department'] = df['title'].apply(lambda title: title.split(':')[0])\r\n",
        "df['Reason'] = df['title'].apply(lambda title: title.split(':')[1])"
      ],
      "execution_count": 15,
      "outputs": []
    },
    {
      "cell_type": "code",
      "metadata": {
        "colab": {
          "base_uri": "https://localhost:8080/"
        },
        "id": "lC8HaPsxxKo3",
        "outputId": "cb4f774c-7625-4a37-99cf-c779ab965273"
      },
      "source": [
        "# Convert strings in 'timeStamp' to datetime object\r\n",
        "# Check conversion\r\n",
        "\r\n",
        "df['timeStamp'] = pd.to_datetime(df['timeStamp'])\r\n",
        "type(df['timeStamp'])"
      ],
      "execution_count": 16,
      "outputs": [
        {
          "output_type": "execute_result",
          "data": {
            "text/plain": [
              "pandas.core.series.Series"
            ]
          },
          "metadata": {
            "tags": []
          },
          "execution_count": 16
        }
      ]
    },
    {
      "cell_type": "code",
      "metadata": {
        "id": "cs0gTwpkxR4H"
      },
      "source": [
        "# Pull specific attributes from new datetime object\r\n",
        "# Split into hour, month, day of week\r\n",
        "\r\n",
        "df['Hour'] = df['timeStamp'].apply(lambda time: time.hour)\r\n",
        "df['Month'] = df['timeStamp'].apply(lambda time: time.month)\r\n",
        "df['Day of Week'] = df['timeStamp'].apply(lambda time: time.dayofweek)"
      ],
      "execution_count": 17,
      "outputs": []
    },
    {
      "cell_type": "code",
      "metadata": {
        "id": "tNnSp3K_xYoF"
      },
      "source": [
        "# Map hours to hour of day for chart\r\n",
        "\r\n",
        "dmap = {0:'0',1:'1',2:'2',3:'3',4:'4',5:'5',6:'6',7:'7',8:'8',9:'9',10:'10',11:'11',\r\n",
        "        12:'12',13:'13',14:'14',15:'15',16:'16',17:'17',18:'18',19:'19',20:'20',\r\n",
        "        21:'21',22:'22',23:'23'}"
      ],
      "execution_count": 18,
      "outputs": []
    },
    {
      "cell_type": "code",
      "metadata": {
        "colab": {
          "base_uri": "https://localhost:8080/",
          "height": 720
        },
        "id": "fhpu5MOsxaf2",
        "outputId": "b95c7b56-8c01-4823-c8c9-82324c3acb8c"
      },
      "source": [
        "# Create histogram plot, x = hours of day, y = total calls\r\n",
        "# Make plot larger for easier viewing\r\n",
        "\r\n",
        "sns.histplot(\r\n",
        "    x = 'Hour',\r\n",
        "    data = df, \r\n",
        "    hue = 'Department',\r\n",
        "    palette = 'viridis',\r\n",
        "    multiple = 'stack'\r\n",
        ")\r\n",
        "sns.set(rc = {'figure.figsize':(18,12)})\r\n",
        "    # figsize from Stack Overflow: \r\n",
        "    # https://stackoverflow.com/questions/31594549/how-do-i-change-the-figure-size-for-a-seaborn-plot"
      ],
      "execution_count": 21,
      "outputs": [
        {
          "output_type": "display_data",
          "data": {
            "image/png": "[encoded data removed]",
            "text/plain": [
              "<Figure size 1296x864 with 1 Axes>"
            ]
          },
          "metadata": {
            "tags": []
          }
        }
      ]
    },
    {
      "cell_type": "code",
      "metadata": {
        "colab": {
          "base_uri": "https://localhost:8080/"
        },
        "id": "tzGhHgHExcUC",
        "outputId": "9520cfe3-19ef-46d7-e8f0-f06a312404c2"
      },
      "source": [
        "# Confirm visual analysis with code\r\n",
        "\r\n",
        "df['Hour'].value_counts().head(-1)"
      ],
      "execution_count": 22,
      "outputs": [
        {
          "output_type": "execute_result",
          "data": {
            "text/plain": [
              "17    6517\n",
              "16    6490\n",
              "15    6154\n",
              "12    6029\n",
              "14    5997\n",
              "13    5967\n",
              "18    5762\n",
              "11    5543\n",
              "10    5413\n",
              "9     5314\n",
              "8     5044\n",
              "19    4908\n",
              "20    4377\n",
              "7     3970\n",
              "21    3788\n",
              "22    3283\n",
              "23    2559\n",
              "6     2513\n",
              "0     2112\n",
              "1     1721\n",
              "5     1629\n",
              "2     1549\n",
              "3     1435\n",
              "Name: Hour, dtype: int64"
            ]
          },
          "metadata": {
            "tags": []
          },
          "execution_count": 22
        }
      ]
    },
    {
      "cell_type": "code",
      "metadata": {
        "colab": {
          "base_uri": "https://localhost:8080/"
        },
        "id": "bXocTOryxwIM",
        "outputId": "6722c451-848c-4de4-d5fe-0bd9e139620c"
      },
      "source": [
        "question5 = '''\r\n",
        "According to Group 5's visual analysis, the most common hour to call 911 is at 5 pm.\r\n",
        "'''\r\n",
        "\r\n",
        "print(question5)"
      ],
      "execution_count": 23,
      "outputs": [
        {
          "output_type": "stream",
          "text": [
            "\n",
            "According to Group 5's visual analysis, the most common hour to call 911 is at 5 pm.\n",
            "\n"
          ],
          "name": "stdout"
        }
      ]
    }
  ]
}