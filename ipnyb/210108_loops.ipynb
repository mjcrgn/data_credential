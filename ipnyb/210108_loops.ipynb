{
  "nbformat": 4,
  "nbformat_minor": 0,
  "metadata": {
    "colab": {
      "name": "210108 loops.ipynb",
      "provenance": [],
      "authorship_tag": "ABX9TyN2ud5vRY0/kQR79WvGkfQo",
      "include_colab_link": true
    },
    "kernelspec": {
      "name": "python3",
      "display_name": "Python 3"
    }
  },
  "cells": [
    {
      "cell_type": "markdown",
      "metadata": {
        "id": "view-in-github",
        "colab_type": "text"
      },
      "source": [
        "<a href=\"https://colab.research.google.com/github/mjcrgn/python-practice/blob/master/210108_loops.ipynb\" target=\"_parent\"><img src=\"https://colab.research.google.com/assets/colab-badge.svg\" alt=\"Open In Colab\"/></a>"
      ]
    },
    {
      "cell_type": "markdown",
      "metadata": {
        "id": "JJ9lcbJZWlfb"
      },
      "source": [
        "Loops"
      ]
    },
    {
      "cell_type": "code",
      "metadata": {
        "colab": {
          "base_uri": "https://localhost:8080/"
        },
        "id": "GzMblrcSWjKN",
        "outputId": "e3e19671-8c7a-446f-f06a-87719fc9b474"
      },
      "source": [
        "for x in 'cuny':  # for every index in string 'cuny' it will print each chc\r\n",
        "  print(x)"
      ],
      "execution_count": 2,
      "outputs": [
        {
          "output_type": "stream",
          "text": [
            "c\n",
            "u\n",
            "n\n",
            "y\n"
          ],
          "name": "stdout"
        }
      ]
    },
    {
      "cell_type": "code",
      "metadata": {
        "colab": {
          "base_uri": "https://localhost:8080/"
        },
        "id": "gCmZPpxGWq9t",
        "outputId": "6a0b8278-1bb2-4fe4-b82e-b4fe51429ec5"
      },
      "source": [
        "tvShows = ['star trek', 'game of thrones', 'stranger things']\r\n",
        "for show in tvShows:\r\n",
        "  print(show)"
      ],
      "execution_count": 11,
      "outputs": [
        {
          "output_type": "stream",
          "text": [
            "star trek\n",
            "game of thrones\n",
            "stranger things\n"
          ],
          "name": "stdout"
        }
      ]
    },
    {
      "cell_type": "code",
      "metadata": {
        "colab": {
          "base_uri": "https://localhost:8080/"
        },
        "id": "C8mVpcCkaPrU",
        "outputId": "fcfed9a6-1077-4bcf-f708-7ec2573d30c9"
      },
      "source": [
        "# lines will print at the same indentation as whatever line of code is executing them\r\n",
        "\r\n",
        "for show in tvShows:\r\n",
        "  print(show.title(), \"is one of my favorite TV shows!\\n I can't wait to watch\", show.upper() + \"!\\n\") # \\n - new line\r\n",
        "\r\n",
        "print(\"I can't wait for my TV shows to come back on air!\")"
      ],
      "execution_count": 15,
      "outputs": [
        {
          "output_type": "stream",
          "text": [
            "Star Trek is one of my favorite TV shows!\n",
            " I can't wait to watch STAR TREK!\n",
            "\n",
            "Game Of Thrones is one of my favorite TV shows!\n",
            " I can't wait to watch GAME OF THRONES!\n",
            "\n",
            "Stranger Things is one of my favorite TV shows!\n",
            " I can't wait to watch STRANGER THINGS!\n",
            "\n",
            "I can't wait for my TV shows to come back on air!\n"
          ],
          "name": "stdout"
        }
      ]
    },
    {
      "cell_type": "markdown",
      "metadata": {
        "id": "5LLuB4AfXi1v"
      },
      "source": [
        "- start by defining a list\r\n",
        "- define a *for* loop - this tells python to pull name from list tvShows and store variable in show\r\n",
        "- print the tvshows we stored in show\r\n",
        "- repeats items 2 and 3 until all variables in tvShows are printed\r\n",
        "- essentially \"for every show in the list of tvShows, print the tv show\""
      ]
    },
    {
      "cell_type": "markdown",
      "metadata": {
        "id": "hrMC4sH0X0QF"
      },
      "source": [
        "Create list of 20 family members, loop through each member and print \"Hi (family member)!\""
      ]
    },
    {
      "cell_type": "code",
      "metadata": {
        "colab": {
          "base_uri": "https://localhost:8080/"
        },
        "id": "JljK0cV_XumY",
        "outputId": "20c811da-547b-4ee3-aeee-6757fdc11f09"
      },
      "source": [
        "weasleyFamily = [\r\n",
        "                 'Arthur Weasley',\r\n",
        "                 'Molly Weasley',\r\n",
        "                 'Bill Weasley',\r\n",
        "                 'Charles Weasley',\r\n",
        "                 'Percy Weasley',\r\n",
        "                 'Fred Weasley',\r\n",
        "                 'George Weasley',\r\n",
        "                 'Ronald Weasley',\r\n",
        "                 'Ginevra Weasley',\r\n",
        "                 'Septimus Weasley',\r\n",
        "                 'Cedrella Weasley',\r\n",
        "                 'Fleur Weasley',\r\n",
        "                 'Angelina Weasley',\r\n",
        "                 'Victoire Weasley',\r\n",
        "                 'Dominique Weasley',\r\n",
        "                 'Louis Weasley',\r\n",
        "                 'Lucy Weasley',\r\n",
        "                 'Roxanne Weasley',\r\n",
        "                 'Rose Granger-Weasley',\r\n",
        "                 'Hugo Granger-Weasley'\r\n",
        "]\r\n",
        "\r\n",
        "for weasley in weasleyFamily:\r\n",
        "  print(\"Hi\", weasley + \"!\")"
      ],
      "execution_count": 42,
      "outputs": [
        {
          "output_type": "stream",
          "text": [
            "Hi Arthur Weasley!\n",
            "Hi Molly Weasley!\n",
            "Hi Bill Weasley!\n",
            "Hi Charles Weasley!\n",
            "Hi Percy Weasley!\n",
            "Hi Fred Weasley!\n",
            "Hi George Weasley!\n",
            "Hi Ronald Weasley!\n",
            "Hi Ginevra Weasley!\n",
            "Hi Septimus Weasley!\n",
            "Hi Cedrella Weasley!\n",
            "Hi Fleur Weasley!\n",
            "Hi Angelina Weasley!\n",
            "Hi Victoire Weasley!\n",
            "Hi Dominique Weasley!\n",
            "Hi Louis Weasley!\n",
            "Hi Lucy Weasley!\n",
            "Hi Roxanne Weasley!\n",
            "Hi Rose Granger-Weasley!\n",
            "Hi Hugo Granger-Weasley!\n"
          ],
          "name": "stdout"
        }
      ]
    },
    {
      "cell_type": "markdown",
      "metadata": {
        "id": "USuAHUwXwb9c"
      },
      "source": [
        "Print slices from family list"
      ]
    },
    {
      "cell_type": "code",
      "metadata": {
        "colab": {
          "base_uri": "https://localhost:8080/"
        },
        "id": "RLoCtmjSwzJQ",
        "outputId": "c518c021-17f4-44d8-86fa-10e9c573229e"
      },
      "source": [
        "print(weasleyFamily[0:9])\r\n",
        "print(weasleyFamily[9:19])\r\n",
        "print(weasleyFamily[0:-1])\r\n",
        "print(weasleyFamily[:4])    # from 0 to index 4\r\n",
        "print(weasleyFamily[4:])    # from index 4 to -1\r\n",
        "print(weasleyFamily[7:11])\r\n",
        "print(weasleyFamily[6:9])\r\n",
        "print(weasleyFamily[3:8])\r\n",
        "print(weasleyFamily[0:0])   # prints nothing\r\n",
        "print(weasleyFamily[0:100]) # prints to last index"
      ],
      "execution_count": 49,
      "outputs": [
        {
          "output_type": "stream",
          "text": [
            "['Arthur Weasley', 'Molly Weasley', 'Bill Weasley', 'Charles Weasley', 'Percy Weasley', 'Fred Weasley', 'George Weasley', 'Ronald Weasley', 'Ginevra Weasley']\n",
            "['Septimus Weasley', 'Cedrella Weasley', 'Fleur Weasley', 'Angelina Weasley', 'Victoire Weasley', 'Dominique Weasley', 'Louis Weasley', 'Lucy Weasley', 'Roxanne Weasley', 'Rose Granger-Weasley']\n",
            "['Arthur Weasley', 'Molly Weasley', 'Bill Weasley', 'Charles Weasley', 'Percy Weasley', 'Fred Weasley', 'George Weasley', 'Ronald Weasley', 'Ginevra Weasley', 'Septimus Weasley', 'Cedrella Weasley', 'Fleur Weasley', 'Angelina Weasley', 'Victoire Weasley', 'Dominique Weasley', 'Louis Weasley', 'Lucy Weasley', 'Roxanne Weasley', 'Rose Granger-Weasley']\n",
            "['Arthur Weasley', 'Molly Weasley', 'Bill Weasley', 'Charles Weasley']\n",
            "['Percy Weasley', 'Fred Weasley', 'George Weasley', 'Ronald Weasley', 'Ginevra Weasley', 'Septimus Weasley', 'Cedrella Weasley', 'Fleur Weasley', 'Angelina Weasley', 'Victoire Weasley', 'Dominique Weasley', 'Louis Weasley', 'Lucy Weasley', 'Roxanne Weasley', 'Rose Granger-Weasley', 'Hugo Granger-Weasley']\n",
            "['Ronald Weasley', 'Ginevra Weasley', 'Septimus Weasley', 'Cedrella Weasley']\n",
            "['George Weasley', 'Ronald Weasley', 'Ginevra Weasley']\n",
            "['Charles Weasley', 'Percy Weasley', 'Fred Weasley', 'George Weasley', 'Ronald Weasley']\n",
            "[]\n",
            "['Arthur Weasley', 'Molly Weasley', 'Bill Weasley', 'Charles Weasley', 'Percy Weasley', 'Fred Weasley', 'George Weasley', 'Ronald Weasley', 'Ginevra Weasley', 'Septimus Weasley', 'Cedrella Weasley', 'Fleur Weasley', 'Angelina Weasley', 'Victoire Weasley', 'Dominique Weasley', 'Louis Weasley', 'Lucy Weasley', 'Roxanne Weasley', 'Rose Granger-Weasley', 'Hugo Granger-Weasley']\n"
          ],
          "name": "stdout"
        }
      ]
    },
    {
      "cell_type": "markdown",
      "metadata": {
        "id": "2ms9ajZuwzBL"
      },
      "source": [
        ""
      ]
    },
    {
      "cell_type": "code",
      "metadata": {
        "colab": {
          "base_uri": "https://localhost:8080/"
        },
        "id": "Lywh9XfcYuOO",
        "outputId": "eb88326b-eea2-4c87-9a5a-beb78a7a7a92"
      },
      "source": [
        "for num in range(1, 10):\r\n",
        "  print(num)\r\n",
        "\r\n",
        "# notice this stopped printing at 9 "
      ],
      "execution_count": 16,
      "outputs": [
        {
          "output_type": "stream",
          "text": [
            "1\n",
            "2\n",
            "3\n",
            "4\n",
            "5\n",
            "6\n",
            "7\n",
            "8\n",
            "9\n"
          ],
          "name": "stdout"
        }
      ]
    },
    {
      "cell_type": "code",
      "metadata": {
        "colab": {
          "base_uri": "https://localhost:8080/"
        },
        "id": "IxVvp1Gsct4v",
        "outputId": "073af83a-2d30-402d-c4a1-e40e7b880e36"
      },
      "source": [
        "for num in range(1, 11):\r\n",
        "  print(num)\r\n",
        "\r\n",
        "# +1 to print last thing"
      ],
      "execution_count": 17,
      "outputs": [
        {
          "output_type": "stream",
          "text": [
            "1\n",
            "2\n",
            "3\n",
            "4\n",
            "5\n",
            "6\n",
            "7\n",
            "8\n",
            "9\n",
            "10\n"
          ],
          "name": "stdout"
        }
      ]
    },
    {
      "cell_type": "code",
      "metadata": {
        "colab": {
          "base_uri": "https://localhost:8080/"
        },
        "id": "0GdTHPNIc8C5",
        "outputId": "bb4d57db-4de8-41b9-fa62-c774525a4a69"
      },
      "source": [
        "numbers1 = list(range(1, 11))\r\n",
        "print(numbers1)\r\n",
        "\r\n",
        "numbers2 = list(range(0, 11, 2))\r\n",
        "print(numbers2)"
      ],
      "execution_count": 18,
      "outputs": [
        {
          "output_type": "stream",
          "text": [
            "[1, 2, 3, 4, 5, 6, 7, 8, 9, 10]\n",
            "[0, 2, 4, 6, 8, 10]\n"
          ],
          "name": "stdout"
        }
      ]
    },
    {
      "cell_type": "markdown",
      "metadata": {
        "id": "rH5oaRljdtDE"
      },
      "source": [
        "Create list to print out odd numbers"
      ]
    },
    {
      "cell_type": "code",
      "metadata": {
        "colab": {
          "base_uri": "https://localhost:8080/"
        },
        "id": "u8tLVRL_dr4p",
        "outputId": "5d0467cb-b274-401f-f30c-917291cc11bd"
      },
      "source": [
        "oddNumbers = list(range(2, 22, 2))\r\n",
        "for num in oddNumbers:\r\n",
        "  print(int(num) - 1)"
      ],
      "execution_count": 25,
      "outputs": [
        {
          "output_type": "stream",
          "text": [
            "1\n",
            "3\n",
            "5\n",
            "7\n",
            "9\n",
            "11\n",
            "13\n",
            "15\n",
            "17\n",
            "19\n"
          ],
          "name": "stdout"
        }
      ]
    },
    {
      "cell_type": "code",
      "metadata": {
        "colab": {
          "base_uri": "https://localhost:8080/"
        },
        "id": "EB9JEJ0Od2Tx",
        "outputId": "af931ca4-e3d0-469b-e919-2066c2b0d243"
      },
      "source": [
        "oddNumbers2 = list(range(1, 19, 2)) # easy way lol but make sure range starts and ends odd\r\n",
        "print(oddNumbers2)"
      ],
      "execution_count": 26,
      "outputs": [
        {
          "output_type": "stream",
          "text": [
            "[1, 3, 5, 7, 9, 11, 13, 15, 17]\n"
          ],
          "name": "stdout"
        }
      ]
    },
    {
      "cell_type": "markdown",
      "metadata": {
        "id": "xNrDaUzje0yC"
      },
      "source": [
        "Create script that takes user input and tells user if number is odd or even"
      ]
    },
    {
      "cell_type": "code",
      "metadata": {
        "colab": {
          "base_uri": "https://localhost:8080/"
        },
        "id": "-63fux0Ee60X",
        "outputId": "2e4efc83-613c-4c14-f189-3dcaf9ceb2ce"
      },
      "source": [
        "input1 = input(\"Please enter an integer: \")\r\n",
        "\r\n",
        "if int(input1)%2 == 0: # % mod operator calculates remainder\r\n",
        "  print(input1, \"is even.\")\r\n",
        "else:\r\n",
        "  print(input1, \"is odd.\")"
      ],
      "execution_count": 28,
      "outputs": [
        {
          "output_type": "stream",
          "text": [
            "Please enter an integer: -3\n",
            "-3 is odd.\n"
          ],
          "name": "stdout"
        }
      ]
    },
    {
      "cell_type": "markdown",
      "metadata": {
        "id": "EEw8q-Cqf4lB"
      },
      "source": [
        "String formatting"
      ]
    },
    {
      "cell_type": "code",
      "metadata": {
        "colab": {
          "base_uri": "https://localhost:8080/"
        },
        "id": "fdhCQiIofKc1",
        "outputId": "cf701919-e4e4-4ee0-a1ab-108802efd3d6"
      },
      "source": [
        "# number script\r\n",
        "\r\n",
        "number1 = int(input('Please enter a number: '))\r\n",
        "if number1%2 == 0:\r\n",
        "  print(f'{number} is even.')                   # c#\r\n",
        "else:\r\n",
        "  print('{0} is odd.'.format(number))           # c++"
      ],
      "execution_count": 32,
      "outputs": [
        {
          "output_type": "stream",
          "text": [
            "Please enter a number: -9\n",
            "4 is odd.\n"
          ],
          "name": "stdout"
        }
      ]
    },
    {
      "cell_type": "markdown",
      "metadata": {
        "id": "MKYtgnSrhmUq"
      },
      "source": [
        "Create script to print list of prime numbers"
      ]
    },
    {
      "cell_type": "code",
      "metadata": {
        "colab": {
          "base_uri": "https://localhost:8080/",
          "height": 91
        },
        "id": "ax8Ai3czgirR",
        "outputId": "355da979-38c6-46c7-dd86-10ed55489586"
      },
      "source": [
        "'''\r\n",
        "\r\n",
        "trying some stuff from me + copying from prof that is not working\r\n",
        "\r\n",
        "for i in range(1, 101) # loop goes from 1 to 100\r\n",
        "  if int(i)%2 ==\r\n",
        "\r\n",
        "number = 2\r\n",
        "while (number < 100):\r\n",
        "  number2 = 2\r\n",
        "  while (number2 <= (number/number2)):\r\n",
        "    if not(number%number2): break\r\n",
        "    number2 = number + 1\r\n",
        "  if (number2 > (number/number2)):\r\n",
        "    print(number)\r\n",
        "    number = number + 1\r\n",
        "\r\n",
        "'''"
      ],
      "execution_count": 36,
      "outputs": [
        {
          "output_type": "execute_result",
          "data": {
            "application/vnd.google.colaboratory.intrinsic+json": {
              "type": "string"
            },
            "text/plain": [
              "'\\n\\ntrying some stuff from me + copying from prof that is not working\\n\\nfor i in range(1, 101) # loop goes from 1 to 100\\n  if int(i)%2 ==\\n\\nnumber = 2\\nwhile (number < 100):\\n  number2 = 2\\n  while (number2 <= (number/number2)):\\n    if not(number%number2): break\\n    number2 = number + 1\\n  if (number2 > (number/number2)):\\n    print(number)\\n    number = number + 1\\n\\n'"
            ]
          },
          "metadata": {
            "tags": []
          },
          "execution_count": 36
        }
      ]
    },
    {
      "cell_type": "code",
      "metadata": {
        "colab": {
          "base_uri": "https://localhost:8080/"
        },
        "id": "rRKtvmTYkTmQ",
        "outputId": "57a9ef03-4c61-41f2-8560-f25f75be008a"
      },
      "source": [
        "for num in range(2, 101):\r\n",
        "    if all(num%i!=0 for i in range(2, num)):\r\n",
        "       print (num)"
      ],
      "execution_count": 38,
      "outputs": [
        {
          "output_type": "stream",
          "text": [
            "2\n",
            "3\n",
            "5\n",
            "7\n",
            "11\n",
            "13\n",
            "17\n",
            "19\n",
            "23\n",
            "29\n",
            "31\n",
            "37\n",
            "41\n",
            "43\n",
            "47\n",
            "53\n",
            "59\n",
            "61\n",
            "67\n",
            "71\n",
            "73\n",
            "79\n",
            "83\n",
            "89\n",
            "97\n"
          ],
          "name": "stdout"
        }
      ]
    },
    {
      "cell_type": "code",
      "metadata": {
        "colab": {
          "base_uri": "https://localhost:8080/"
        },
        "id": "OXarHQTQmwci",
        "outputId": "0226f2fe-263f-4148-e832-c97399475c3a"
      },
      "source": [
        "# not working as intended either\r\n",
        "\r\n",
        "n=int(input('Enter a number greater than 1: '))\r\n",
        "Match = True\r\n",
        "\r\n",
        "for num in range(2, n):\r\n",
        "  n%num\r\n",
        "  if n%num == 0:\r\n",
        "    Match == False\r\n",
        "\r\n",
        "  if Match:\r\n",
        "    print('num is prime.')\r\n",
        "  else:\r\n",
        "    print('num is not prime.')\r\n"
      ],
      "execution_count": 39,
      "outputs": [
        {
          "output_type": "stream",
          "text": [
            "Enter a number greater than 1: 3\n",
            "num is prime.\n"
          ],
          "name": "stdout"
        }
      ]
    },
    {
      "cell_type": "code",
      "metadata": {
        "id": "N75TPQjYuQrz"
      },
      "source": [
        ""
      ],
      "execution_count": null,
      "outputs": []
    }
  ]
}